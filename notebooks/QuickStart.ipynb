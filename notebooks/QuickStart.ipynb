{
 "cells": [
  {
   "cell_type": "markdown",
   "id": "e57154e3-8389-4ece-873f-26c49b04efea",
   "metadata": {},
   "source": [
    "# Direct interaction with LLM"
   ]
  },
  {
   "cell_type": "code",
   "execution_count": 1,
   "id": "27aa506c-5c07-4f6f-97d9-a677586a0adb",
   "metadata": {},
   "outputs": [
    {
     "name": "stderr",
     "output_type": "stream",
     "text": [
      "/usr/local/lib/python3.11/site-packages/pypdf/_crypt_providers/_cryptography.py:32: CryptographyDeprecationWarning: ARC4 has been moved to cryptography.hazmat.decrepit.ciphers.algorithms.ARC4 and will be removed from this module in 48.0.0.\n",
      "  from cryptography.hazmat.primitives.ciphers.algorithms import AES, ARC4\n",
      "/usr/local/lib/python3.11/site-packages/tqdm/auto.py:21: TqdmWarning: IProgress not found. Please update jupyter and ipywidgets. See https://ipywidgets.readthedocs.io/en/stable/user_install.html\n",
      "  from .autonotebook import tqdm as notebook_tqdm\n"
     ]
    }
   ],
   "source": [
    "import langroid as lr\n",
    "import langroid.language_models as lm"
   ]
  },
  {
   "cell_type": "code",
   "execution_count": 2,
   "id": "bdf23288-a788-452d-a321-0f7eca9bc5ca",
   "metadata": {},
   "outputs": [],
   "source": [
    "llm_cfg = lm.OpenAIGPTConfig(\n",
    "    chat_model=\"ollama/llama3.1:8b\",\n",
    "    api_base=\"http://10.20.10.65:11434/v1\",\n",
    "    chat_context_length=128_000, # adjust based on model\n",
    ")"
   ]
  },
  {
   "cell_type": "code",
   "execution_count": 3,
   "id": "53a82c3d-9012-43f2-917d-197da1b49f49",
   "metadata": {},
   "outputs": [
    {
     "name": "stderr",
     "output_type": "stream",
     "text": [
      "\u001b[33m2024-10-16 15:07:19 - WARNING - REDIS_PASSWORD, REDIS_HOST, REDIS_PORT not set in .env file,\n",
      "                        using fake redis client\u001b[0m\n"
     ]
    },
    {
     "name": "stdout",
     "output_type": "stream",
     "text": [
      "\u001b[32m\u001b[32mEl\u001b[32m cu\u001b[32madr\u001b[32mado\u001b[32m de\u001b[32m \u001b[32m3\u001b[32m es\u001b[32m \u001b[32m9\u001b[32m,\u001b[32m ya\u001b[32m que\u001b[32m \u001b[32m3\u001b[32m x\u001b[32m \u001b[32m3\u001b[32m =\u001b[32m \u001b[32m9\u001b[32m."
     ]
    },
    {
     "data": {
      "text/html": [
       "<pre style=\"white-space:pre;overflow-x:auto;line-height:normal;font-family:Menlo,'DejaVu Sans Mono',consolas,'Courier New',monospace\">\n",
       "</pre>\n"
      ],
      "text/plain": [
       "\n"
      ]
     },
     "metadata": {},
     "output_type": "display_data"
    }
   ],
   "source": [
    "llm = lm.OpenAIGPT(llm_cfg)\n",
    "\n",
    "response = llm.chat(\"Cual es el cuadrado de 3?\")"
   ]
  },
  {
   "cell_type": "markdown",
   "id": "b91fcccc-7b55-43b5-83f8-5e9ef861d209",
   "metadata": {},
   "source": [
    "# Interact with ChatAgent"
   ]
  },
  {
   "cell_type": "code",
   "execution_count": 4,
   "id": "51b862d6-52bc-4cc1-838f-5ecac0852754",
   "metadata": {},
   "outputs": [
    {
     "data": {
      "text/html": [
       "<pre style=\"white-space:pre;overflow-x:auto;line-height:normal;font-family:Menlo,'DejaVu Sans Mono',consolas,'Courier New',monospace\"></pre>\n"
      ],
      "text/plain": []
     },
     "metadata": {},
     "output_type": "display_data"
    },
    {
     "name": "stdout",
     "output_type": "stream",
     "text": [
      "\u001b[32m\u001b[32mLa\u001b[32m capital\u001b[32m de\u001b[32m China\u001b[32m es\u001b[32m Pek\u001b[32mín\u001b[32m (\u001b[32mt\u001b[32mamb\u001b[32mién\u001b[32m conoc\u001b[32mida\u001b[32m como\u001b[32m Beijing\u001b[32m en\u001b[32m ch\u001b[32mino\u001b[32m).\u001b[32m ¿\u001b[32mN\u001b[32mec\u001b[32mes\u001b[32mitas\u001b[32m más\u001b[32m información\u001b[32m sobre\u001b[32m China\u001b[32m o\u001b[32m su\u001b[32m capital\u001b[32m?"
     ]
    },
    {
     "data": {
      "text/html": [
       "<pre style=\"white-space:pre;overflow-x:auto;line-height:normal;font-family:Menlo,'DejaVu Sans Mono',consolas,'Courier New',monospace\">\n",
       "</pre>\n"
      ],
      "text/plain": [
       "\n"
      ]
     },
     "metadata": {},
     "output_type": "display_data"
    },
    {
     "data": {
      "text/html": [
       "<pre style=\"white-space:pre;overflow-x:auto;line-height:normal;font-family:Menlo,'DejaVu Sans Mono',consolas,'Courier New',monospace\"><span style=\"font-weight: bold\">Stats:</span> <span style=\"color: #800080; text-decoration-color: #800080\">N_MSG</span><span style=\"color: #800080; text-decoration-color: #800080\">=</span><span style=\"color: #800080; text-decoration-color: #800080; font-weight: bold\">2</span><span style=\"color: #800080; text-decoration-color: #800080\">, TOKENS: </span><span style=\"color: #800080; text-decoration-color: #800080\">in</span><span style=\"color: #800080; text-decoration-color: #800080\">=</span><span style=\"color: #800080; text-decoration-color: #800080; font-weight: bold\">23</span><span style=\"color: #800080; text-decoration-color: #800080\">, </span><span style=\"color: #800080; text-decoration-color: #800080\">out</span><span style=\"color: #800080; text-decoration-color: #800080\">=</span><span style=\"color: #800080; text-decoration-color: #800080; font-weight: bold\">33</span><span style=\"color: #800080; text-decoration-color: #800080\">, </span><span style=\"color: #800080; text-decoration-color: #800080\">max</span><span style=\"color: #800080; text-decoration-color: #800080\">=</span><span style=\"color: #800080; text-decoration-color: #800080; font-weight: bold\">1024</span><span style=\"color: #800080; text-decoration-color: #800080\">, </span><span style=\"color: #800080; text-decoration-color: #800080\">ctx</span><span style=\"color: #800080; text-decoration-color: #800080\">=</span><span style=\"color: #800080; text-decoration-color: #800080; font-weight: bold\">128000</span><span style=\"color: #800080; text-decoration-color: #800080\">, COST: </span><span style=\"color: #800080; text-decoration-color: #800080\">now</span><span style=\"color: #800080; text-decoration-color: #800080\">=$</span><span style=\"color: #800080; text-decoration-color: #800080; font-weight: bold\">0.0000</span><span style=\"color: #800080; text-decoration-color: #800080\">, </span><span style=\"color: #800080; text-decoration-color: #800080\">cumul</span><span style=\"color: #800080; text-decoration-color: #800080\">=$</span><span style=\"color: #800080; text-decoration-color: #800080; font-weight: bold\">0.0000</span><span style=\"color: #800080; text-decoration-color: #800080\">, </span><span style=\"color: #800080; text-decoration-color: #800080\">tot</span><span style=\"color: #800080; text-decoration-color: #800080\">=$</span><span style=\"color: #800080; text-decoration-color: #800080; font-weight: bold\">0.0000</span><span style=\"color: #800080; text-decoration-color: #800080\"> </span>\n",
       "<span style=\"color: #800080; text-decoration-color: #800080; font-weight: bold\">(llama3.1:8b)</span>\n",
       "</pre>\n"
      ],
      "text/plain": [
       "\u001b[1mStats:\u001b[0m \u001b[35mN_MSG\u001b[0m\u001b[35m=\u001b[0m\u001b[1;35m2\u001b[0m\u001b[35m, TOKENS: \u001b[0m\u001b[35min\u001b[0m\u001b[35m=\u001b[0m\u001b[1;35m23\u001b[0m\u001b[35m, \u001b[0m\u001b[35mout\u001b[0m\u001b[35m=\u001b[0m\u001b[1;35m33\u001b[0m\u001b[35m, \u001b[0m\u001b[35mmax\u001b[0m\u001b[35m=\u001b[0m\u001b[1;35m1024\u001b[0m\u001b[35m, \u001b[0m\u001b[35mctx\u001b[0m\u001b[35m=\u001b[0m\u001b[1;35m128000\u001b[0m\u001b[35m, COST: \u001b[0m\u001b[35mnow\u001b[0m\u001b[35m=$\u001b[0m\u001b[1;35m0.0000\u001b[0m\u001b[35m, \u001b[0m\u001b[35mcumul\u001b[0m\u001b[35m=$\u001b[0m\u001b[1;35m0.0000\u001b[0m\u001b[35m, \u001b[0m\u001b[35mtot\u001b[0m\u001b[35m=$\u001b[0m\u001b[1;35m0.0000\u001b[0m\u001b[35m \u001b[0m\n",
       "\u001b[1;35m(\u001b[0m\u001b[1;35mllama3.\u001b[0m\u001b[1;35m1:8b\u001b[0m\u001b[1;35m)\u001b[0m\n"
      ]
     },
     "metadata": {},
     "output_type": "display_data"
    },
    {
     "data": {
      "text/plain": [
       "ChatDocument(content='La capital de China es Pekín (también conocida como Beijing en chino). ¿Necesitas más información sobre China o su capital?', metadata=ChatDocMetaData(source='LLM', is_chunk=False, id='942e18c8-d6a2-47d6-ba25-10133e75387f', window_ids=[], parent_id='', child_id='', agent_id=FieldInfo(default=PydanticUndefined, default_factory=<function Agent.<lambda> at 0x77cd594d1300>, extra={}), msg_idx=2, sender=<Entity.LLM: 'LLM'>, oai_tool_id=None, tool_ids=[], block=None, sender_name='', recipient='', usage=LLMTokenUsage(prompt_tokens=23, completion_tokens=33, cost=0.0, calls=0), cached=False, displayed=True, has_citation=False, status=None), content_any='La capital de China es Pekín (también conocida como Beijing en chino). ¿Necesitas más información sobre China o su capital?', oai_tool_calls=None, oai_tool_id2result=None, oai_tool_choice='auto', function_call=None, tool_messages=[], all_tool_messages=[], attachment=None)"
      ]
     },
     "execution_count": 4,
     "metadata": {},
     "output_type": "execute_result"
    }
   ],
   "source": [
    "agent_cfg = lr.ChatAgentConfig(llm=llm_cfg)\n",
    "agent = lr.ChatAgent(agent_cfg)\n",
    "agent.llm_response(\"Cual es la capital de China?\")"
   ]
  },
  {
   "cell_type": "code",
   "execution_count": 5,
   "id": "a134433e-4fea-449d-89d9-b8c253efb6a8",
   "metadata": {},
   "outputs": [
    {
     "data": {
      "text/html": [
       "<pre style=\"white-space:pre;overflow-x:auto;line-height:normal;font-family:Menlo,'DejaVu Sans Mono',consolas,'Courier New',monospace\"></pre>\n"
      ],
      "text/plain": []
     },
     "metadata": {},
     "output_type": "display_data"
    },
    {
     "name": "stdout",
     "output_type": "stream",
     "text": [
      "\u001b[32m\u001b[32mLa\u001b[32m capital\u001b[32m de\u001b[32m Franc\u001b[32mia\u001b[32m es\u001b[32m Par\u001b[32mís\u001b[32m.\u001b[32m ¿\u001b[32mQu\u001b[32mieres\u001b[32m saber\u001b[32m algo\u001b[32m más\u001b[32m sobre\u001b[32m Franc\u001b[32mia\u001b[32m o\u001b[32m su\u001b[32m capital\u001b[32m?"
     ]
    },
    {
     "data": {
      "text/html": [
       "<pre style=\"white-space:pre;overflow-x:auto;line-height:normal;font-family:Menlo,'DejaVu Sans Mono',consolas,'Courier New',monospace\">\n",
       "</pre>\n"
      ],
      "text/plain": [
       "\n"
      ]
     },
     "metadata": {},
     "output_type": "display_data"
    },
    {
     "data": {
      "text/html": [
       "<pre style=\"white-space:pre;overflow-x:auto;line-height:normal;font-family:Menlo,'DejaVu Sans Mono',consolas,'Courier New',monospace\"><span style=\"font-weight: bold\">Stats:</span> <span style=\"color: #800080; text-decoration-color: #800080\">N_MSG</span><span style=\"color: #800080; text-decoration-color: #800080\">=</span><span style=\"color: #800080; text-decoration-color: #800080; font-weight: bold\">4</span><span style=\"color: #800080; text-decoration-color: #800080\">, TOKENS: </span><span style=\"color: #800080; text-decoration-color: #800080\">in</span><span style=\"color: #800080; text-decoration-color: #800080\">=</span><span style=\"color: #800080; text-decoration-color: #800080; font-weight: bold\">61</span><span style=\"color: #800080; text-decoration-color: #800080\">, </span><span style=\"color: #800080; text-decoration-color: #800080\">out</span><span style=\"color: #800080; text-decoration-color: #800080\">=</span><span style=\"color: #800080; text-decoration-color: #800080; font-weight: bold\">22</span><span style=\"color: #800080; text-decoration-color: #800080\">, </span><span style=\"color: #800080; text-decoration-color: #800080\">max</span><span style=\"color: #800080; text-decoration-color: #800080\">=</span><span style=\"color: #800080; text-decoration-color: #800080; font-weight: bold\">1024</span><span style=\"color: #800080; text-decoration-color: #800080\">, </span><span style=\"color: #800080; text-decoration-color: #800080\">ctx</span><span style=\"color: #800080; text-decoration-color: #800080\">=</span><span style=\"color: #800080; text-decoration-color: #800080; font-weight: bold\">128000</span><span style=\"color: #800080; text-decoration-color: #800080\">, COST: </span><span style=\"color: #800080; text-decoration-color: #800080\">now</span><span style=\"color: #800080; text-decoration-color: #800080\">=$</span><span style=\"color: #800080; text-decoration-color: #800080; font-weight: bold\">0.0000</span><span style=\"color: #800080; text-decoration-color: #800080\">, </span><span style=\"color: #800080; text-decoration-color: #800080\">cumul</span><span style=\"color: #800080; text-decoration-color: #800080\">=$</span><span style=\"color: #800080; text-decoration-color: #800080; font-weight: bold\">0.0000</span><span style=\"color: #800080; text-decoration-color: #800080\">, </span><span style=\"color: #800080; text-decoration-color: #800080\">tot</span><span style=\"color: #800080; text-decoration-color: #800080\">=$</span><span style=\"color: #800080; text-decoration-color: #800080; font-weight: bold\">0.0000</span><span style=\"color: #800080; text-decoration-color: #800080\"> </span>\n",
       "<span style=\"color: #800080; text-decoration-color: #800080; font-weight: bold\">(llama3.1:8b)</span>\n",
       "</pre>\n"
      ],
      "text/plain": [
       "\u001b[1mStats:\u001b[0m \u001b[35mN_MSG\u001b[0m\u001b[35m=\u001b[0m\u001b[1;35m4\u001b[0m\u001b[35m, TOKENS: \u001b[0m\u001b[35min\u001b[0m\u001b[35m=\u001b[0m\u001b[1;35m61\u001b[0m\u001b[35m, \u001b[0m\u001b[35mout\u001b[0m\u001b[35m=\u001b[0m\u001b[1;35m22\u001b[0m\u001b[35m, \u001b[0m\u001b[35mmax\u001b[0m\u001b[35m=\u001b[0m\u001b[1;35m1024\u001b[0m\u001b[35m, \u001b[0m\u001b[35mctx\u001b[0m\u001b[35m=\u001b[0m\u001b[1;35m128000\u001b[0m\u001b[35m, COST: \u001b[0m\u001b[35mnow\u001b[0m\u001b[35m=$\u001b[0m\u001b[1;35m0.0000\u001b[0m\u001b[35m, \u001b[0m\u001b[35mcumul\u001b[0m\u001b[35m=$\u001b[0m\u001b[1;35m0.0000\u001b[0m\u001b[35m, \u001b[0m\u001b[35mtot\u001b[0m\u001b[35m=$\u001b[0m\u001b[1;35m0.0000\u001b[0m\u001b[35m \u001b[0m\n",
       "\u001b[1;35m(\u001b[0m\u001b[1;35mllama3.\u001b[0m\u001b[1;35m1:8b\u001b[0m\u001b[1;35m)\u001b[0m\n"
      ]
     },
     "metadata": {},
     "output_type": "display_data"
    },
    {
     "data": {
      "text/plain": [
       "ChatDocument(content='La capital de Francia es París. ¿Quieres saber algo más sobre Francia o su capital?', metadata=ChatDocMetaData(source='LLM', is_chunk=False, id='53eccbe5-e37c-4c7d-aa47-1d4f130c5c79', window_ids=[], parent_id='', child_id='', agent_id=FieldInfo(default=PydanticUndefined, default_factory=<function Agent.<lambda> at 0x77cd594d1300>, extra={}), msg_idx=4, sender=<Entity.LLM: 'LLM'>, oai_tool_id=None, tool_ids=[], block=None, sender_name='', recipient='', usage=LLMTokenUsage(prompt_tokens=61, completion_tokens=22, cost=0.0, calls=0), cached=False, displayed=True, has_citation=False, status=None), content_any='La capital de Francia es París. ¿Quieres saber algo más sobre Francia o su capital?', oai_tool_calls=None, oai_tool_id2result=None, oai_tool_choice='auto', function_call=None, tool_messages=[], all_tool_messages=[], attachment=None)"
      ]
     },
     "execution_count": 5,
     "metadata": {},
     "output_type": "execute_result"
    }
   ],
   "source": [
    "agent.llm_response(\"Y de Francia?\") # interprets based on previous msg"
   ]
  },
  {
   "cell_type": "markdown",
   "id": "4a99a9d8-e8c8-463c-b982-0dadb504cbe5",
   "metadata": {},
   "source": [
    "# Wrap Agent in a Task"
   ]
  },
  {
   "cell_type": "code",
   "execution_count": 8,
   "id": "b5224641-6b09-4102-ad32-0f2b0b52a3a8",
   "metadata": {},
   "outputs": [
    {
     "data": {
      "text/html": [
       "<pre style=\"white-space:pre;overflow-x:auto;line-height:normal;font-family:Menlo,'DejaVu Sans Mono',consolas,'Courier New',monospace\"> <span style=\"font-weight: bold\">(</span>Bot<span style=\"font-weight: bold\">)</span> <span style=\"font-weight: bold\">[</span>red<span style=\"font-weight: bold\">]</span> Entity.USER <span style=\"font-weight: bold\">[</span><span style=\"color: #800080; text-decoration-color: #800080\">/</span><span style=\"color: #ff00ff; text-decoration-color: #ff00ff\">red</span><span style=\"font-weight: bold\">]</span> <span style=\"font-weight: bold\">[</span>blue<span style=\"font-weight: bold\">]</span>Entity.USER<span style=\"font-weight: bold\">[</span><span style=\"color: #800080; text-decoration-color: #800080\">/</span><span style=\"color: #ff00ff; text-decoration-color: #ff00ff\">blue</span><span style=\"font-weight: bold\">](</span>       Bot<span style=\"font-weight: bold\">)</span> <span style=\"font-weight: bold\">(</span>=&gt;          <span style=\"font-weight: bold\">)</span> <span style=\"font-weight: bold\">(</span>X           <span style=\"font-weight: bold\">)</span>       <span style=\"font-weight: bold\">(</span>          <span style=\"font-weight: bold\">)</span> <span style=\"font-weight: bold\">[</span>blue<span style=\"font-weight: bold\">]</span>Hola<span style=\"font-weight: bold\">[</span><span style=\"color: #800080; text-decoration-color: #800080\">/</span><span style=\"color: #ff00ff; text-decoration-color: #ff00ff\">blue</span><span style=\"font-weight: bold\">]</span>\n",
       "</pre>\n"
      ],
      "text/plain": [
       " \u001b[1m(\u001b[0mBot\u001b[1m)\u001b[0m \u001b[1m[\u001b[0mred\u001b[1m]\u001b[0m Entity.USER \u001b[1m[\u001b[0m\u001b[35m/\u001b[0m\u001b[95mred\u001b[0m\u001b[1m]\u001b[0m \u001b[1m[\u001b[0mblue\u001b[1m]\u001b[0mEntity.USER\u001b[1m[\u001b[0m\u001b[35m/\u001b[0m\u001b[95mblue\u001b[0m\u001b[1m]\u001b[0m\u001b[1m(\u001b[0m       Bot\u001b[1m)\u001b[0m \u001b[1m(\u001b[0m=>          \u001b[1m)\u001b[0m \u001b[1m(\u001b[0mX           \u001b[1m)\u001b[0m       \u001b[1m(\u001b[0m          \u001b[1m)\u001b[0m \u001b[1m[\u001b[0mblue\u001b[1m]\u001b[0mHola\u001b[1m[\u001b[0m\u001b[35m/\u001b[0m\u001b[95mblue\u001b[0m\u001b[1m]\u001b[0m\n"
      ]
     },
     "metadata": {},
     "output_type": "display_data"
    },
    {
     "data": {
      "text/html": [
       "<pre style=\"white-space:pre;overflow-x:auto;line-height:normal;font-family:Menlo,'DejaVu Sans Mono',consolas,'Courier New',monospace\"><span style=\"color: #800080; text-decoration-color: #800080; font-weight: bold\">&gt;&gt;&gt; Starting Agent Bot (</span><span style=\"color: #800080; text-decoration-color: #800080; font-weight: bold\">1</span><span style=\"color: #800080; text-decoration-color: #800080; font-weight: bold\">) llama3.1:8b </span>\n",
       "</pre>\n"
      ],
      "text/plain": [
       "\u001b[1;35m>>> Starting Agent Bot \u001b[0m\u001b[1;35m(\u001b[0m\u001b[1;35m1\u001b[0m\u001b[1;35m)\u001b[0m\u001b[1;35m llama3.\u001b[0m\u001b[1;35m1:8b\u001b[0m\u001b[1;35m \u001b[0m\n"
      ]
     },
     "metadata": {},
     "output_type": "display_data"
    },
    {
     "data": {
      "text/html": [
       "<pre style=\"white-space:pre;overflow-x:auto;line-height:normal;font-family:Menlo,'DejaVu Sans Mono',consolas,'Courier New',monospace\"> <span style=\"font-weight: bold\">(</span>Bot<span style=\"font-weight: bold\">)</span> <span style=\"font-weight: bold\">[</span>red<span style=\"font-weight: bold\">]</span> Entity.USER <span style=\"font-weight: bold\">[</span><span style=\"color: #800080; text-decoration-color: #800080\">/</span><span style=\"color: #ff00ff; text-decoration-color: #ff00ff\">red</span><span style=\"font-weight: bold\">]</span> <span style=\"font-weight: bold\">[</span>blue<span style=\"font-weight: bold\">]</span>Entity.USER<span style=\"font-weight: bold\">[</span><span style=\"color: #800080; text-decoration-color: #800080\">/</span><span style=\"color: #ff00ff; text-decoration-color: #ff00ff\">blue</span><span style=\"font-weight: bold\">](</span>Entity.USER<span style=\"font-weight: bold\">)</span> <span style=\"font-weight: bold\">(</span>=&gt;          <span style=\"font-weight: bold\">)</span> <span style=\"font-weight: bold\">(</span>X           <span style=\"font-weight: bold\">)</span>       <span style=\"font-weight: bold\">(</span>          <span style=\"font-weight: bold\">)</span> <span style=\"font-weight: bold\">[</span>blue<span style=\"font-weight: bold\">][</span>CANNOT RESPOND<span style=\"font-weight: bold\">][</span><span style=\"color: #800080; text-decoration-color: #800080\">/</span><span style=\"color: #ff00ff; text-decoration-color: #ff00ff\">blue</span><span style=\"font-weight: bold\">]</span>\n",
       "</pre>\n"
      ],
      "text/plain": [
       " \u001b[1m(\u001b[0mBot\u001b[1m)\u001b[0m \u001b[1m[\u001b[0mred\u001b[1m]\u001b[0m Entity.USER \u001b[1m[\u001b[0m\u001b[35m/\u001b[0m\u001b[95mred\u001b[0m\u001b[1m]\u001b[0m \u001b[1m[\u001b[0mblue\u001b[1m]\u001b[0mEntity.USER\u001b[1m[\u001b[0m\u001b[35m/\u001b[0m\u001b[95mblue\u001b[0m\u001b[1m]\u001b[0m\u001b[1m(\u001b[0mEntity.USER\u001b[1m)\u001b[0m \u001b[1m(\u001b[0m=>          \u001b[1m)\u001b[0m \u001b[1m(\u001b[0mX           \u001b[1m)\u001b[0m       \u001b[1m(\u001b[0m          \u001b[1m)\u001b[0m \u001b[1m[\u001b[0mblue\u001b[1m]\u001b[0m\u001b[1m[\u001b[0mCANNOT RESPOND\u001b[1m]\u001b[0m\u001b[1m[\u001b[0m\u001b[35m/\u001b[0m\u001b[95mblue\u001b[0m\u001b[1m]\u001b[0m\n"
      ]
     },
     "metadata": {},
     "output_type": "display_data"
    },
    {
     "data": {
      "text/html": [
       "<pre style=\"white-space:pre;overflow-x:auto;line-height:normal;font-family:Menlo,'DejaVu Sans Mono',consolas,'Courier New',monospace\"> <span style=\"font-weight: bold\">(</span>Bot<span style=\"font-weight: bold\">)</span> <span style=\"font-weight: bold\">[</span>red<span style=\"font-weight: bold\">]</span> Entity.AGENT <span style=\"font-weight: bold\">[</span><span style=\"color: #800080; text-decoration-color: #800080\">/</span><span style=\"color: #ff00ff; text-decoration-color: #ff00ff\">red</span><span style=\"font-weight: bold\">]</span>\n",
       "</pre>\n"
      ],
      "text/plain": [
       " \u001b[1m(\u001b[0mBot\u001b[1m)\u001b[0m \u001b[1m[\u001b[0mred\u001b[1m]\u001b[0m Entity.AGENT \u001b[1m[\u001b[0m\u001b[35m/\u001b[0m\u001b[95mred\u001b[0m\u001b[1m]\u001b[0m\n"
      ]
     },
     "metadata": {},
     "output_type": "display_data"
    },
    {
     "data": {
      "text/html": [
       "<pre style=\"white-space:pre;overflow-x:auto;line-height:normal;font-family:Menlo,'DejaVu Sans Mono',consolas,'Courier New',monospace\"></pre>\n"
      ],
      "text/plain": []
     },
     "metadata": {},
     "output_type": "display_data"
    },
    {
     "name": "stdout",
     "output_type": "stream",
     "text": [
      "\u001b[32m\u001b[32m¡\u001b[32mHola\u001b[32m!\u001b[32m ¿\u001b[32mEn\u001b[32m qué\u001b[32m puedo\u001b[32m ayud\u001b[32marte\u001b[32m hoy\u001b[32m?"
     ]
    },
    {
     "data": {
      "text/html": [
       "<pre style=\"white-space:pre;overflow-x:auto;line-height:normal;font-family:Menlo,'DejaVu Sans Mono',consolas,'Courier New',monospace\">\n",
       "</pre>\n"
      ],
      "text/plain": [
       "\n"
      ]
     },
     "metadata": {},
     "output_type": "display_data"
    },
    {
     "data": {
      "text/html": [
       "<pre style=\"white-space:pre;overflow-x:auto;line-height:normal;font-family:Menlo,'DejaVu Sans Mono',consolas,'Courier New',monospace\"><span style=\"font-weight: bold\">Stats:</span> <span style=\"color: #800080; text-decoration-color: #800080\">N_MSG</span><span style=\"color: #800080; text-decoration-color: #800080\">=</span><span style=\"color: #800080; text-decoration-color: #800080; font-weight: bold\">2</span><span style=\"color: #800080; text-decoration-color: #800080\">, TOKENS: </span><span style=\"color: #800080; text-decoration-color: #800080\">in</span><span style=\"color: #800080; text-decoration-color: #800080\">=</span><span style=\"color: #800080; text-decoration-color: #800080; font-weight: bold\">15</span><span style=\"color: #800080; text-decoration-color: #800080\">, </span><span style=\"color: #800080; text-decoration-color: #800080\">out</span><span style=\"color: #800080; text-decoration-color: #800080\">=</span><span style=\"color: #800080; text-decoration-color: #800080; font-weight: bold\">11</span><span style=\"color: #800080; text-decoration-color: #800080\">, </span><span style=\"color: #800080; text-decoration-color: #800080\">max</span><span style=\"color: #800080; text-decoration-color: #800080\">=</span><span style=\"color: #800080; text-decoration-color: #800080; font-weight: bold\">1024</span><span style=\"color: #800080; text-decoration-color: #800080\">, </span><span style=\"color: #800080; text-decoration-color: #800080\">ctx</span><span style=\"color: #800080; text-decoration-color: #800080\">=</span><span style=\"color: #800080; text-decoration-color: #800080; font-weight: bold\">128000</span><span style=\"color: #800080; text-decoration-color: #800080\">, COST: </span><span style=\"color: #800080; text-decoration-color: #800080\">now</span><span style=\"color: #800080; text-decoration-color: #800080\">=$</span><span style=\"color: #800080; text-decoration-color: #800080; font-weight: bold\">0.0000</span><span style=\"color: #800080; text-decoration-color: #800080\">, </span><span style=\"color: #800080; text-decoration-color: #800080\">cumul</span><span style=\"color: #800080; text-decoration-color: #800080\">=$</span><span style=\"color: #800080; text-decoration-color: #800080; font-weight: bold\">0.0000</span><span style=\"color: #800080; text-decoration-color: #800080\">, </span><span style=\"color: #800080; text-decoration-color: #800080\">tot</span><span style=\"color: #800080; text-decoration-color: #800080\">=$</span><span style=\"color: #800080; text-decoration-color: #800080; font-weight: bold\">0.0000</span><span style=\"color: #800080; text-decoration-color: #800080\"> </span>\n",
       "<span style=\"color: #800080; text-decoration-color: #800080; font-weight: bold\">(llama3.1:8b)</span>\n",
       "</pre>\n"
      ],
      "text/plain": [
       "\u001b[1mStats:\u001b[0m \u001b[35mN_MSG\u001b[0m\u001b[35m=\u001b[0m\u001b[1;35m2\u001b[0m\u001b[35m, TOKENS: \u001b[0m\u001b[35min\u001b[0m\u001b[35m=\u001b[0m\u001b[1;35m15\u001b[0m\u001b[35m, \u001b[0m\u001b[35mout\u001b[0m\u001b[35m=\u001b[0m\u001b[1;35m11\u001b[0m\u001b[35m, \u001b[0m\u001b[35mmax\u001b[0m\u001b[35m=\u001b[0m\u001b[1;35m1024\u001b[0m\u001b[35m, \u001b[0m\u001b[35mctx\u001b[0m\u001b[35m=\u001b[0m\u001b[1;35m128000\u001b[0m\u001b[35m, COST: \u001b[0m\u001b[35mnow\u001b[0m\u001b[35m=$\u001b[0m\u001b[1;35m0.0000\u001b[0m\u001b[35m, \u001b[0m\u001b[35mcumul\u001b[0m\u001b[35m=$\u001b[0m\u001b[1;35m0.0000\u001b[0m\u001b[35m, \u001b[0m\u001b[35mtot\u001b[0m\u001b[35m=$\u001b[0m\u001b[1;35m0.0000\u001b[0m\u001b[35m \u001b[0m\n",
       "\u001b[1;35m(\u001b[0m\u001b[1;35mllama3.\u001b[0m\u001b[1;35m1:8b\u001b[0m\u001b[1;35m)\u001b[0m\n"
      ]
     },
     "metadata": {},
     "output_type": "display_data"
    },
    {
     "data": {
      "text/html": [
       "<pre style=\"white-space:pre;overflow-x:auto;line-height:normal;font-family:Menlo,'DejaVu Sans Mono',consolas,'Courier New',monospace\">*<span style=\"font-weight: bold\">(</span>Bot<span style=\"font-weight: bold\">)</span> <span style=\"font-weight: bold\">[</span>white<span style=\"font-weight: bold\">]</span> Entity.LLM <span style=\"font-weight: bold\">[</span><span style=\"color: #800080; text-decoration-color: #800080\">/</span><span style=\"color: #ff00ff; text-decoration-color: #ff00ff\">white</span><span style=\"font-weight: bold\">]</span> <span style=\"font-weight: bold\">[</span>green<span style=\"font-weight: bold\">]</span>Entity.LLM<span style=\"font-weight: bold\">[</span><span style=\"color: #800080; text-decoration-color: #800080\">/</span><span style=\"color: #ff00ff; text-decoration-color: #ff00ff\">green</span><span style=\"font-weight: bold\">](</span>          <span style=\"font-weight: bold\">)</span> <span style=\"font-weight: bold\">(</span>=&gt;          <span style=\"font-weight: bold\">)</span> <span style=\"font-weight: bold\">(</span>X           <span style=\"font-weight: bold\">)</span>       <span style=\"font-weight: bold\">(</span>          <span style=\"font-weight: bold\">)</span> <span style=\"font-weight: bold\">[</span>green<span style=\"font-weight: bold\">]</span>¡Hola! ¿En qué puedo ayudarte hoy?<span style=\"font-weight: bold\">[</span><span style=\"color: #800080; text-decoration-color: #800080\">/</span><span style=\"color: #ff00ff; text-decoration-color: #ff00ff\">green</span><span style=\"font-weight: bold\">]</span>\n",
       "</pre>\n"
      ],
      "text/plain": [
       "*\u001b[1m(\u001b[0mBot\u001b[1m)\u001b[0m \u001b[1m[\u001b[0mwhite\u001b[1m]\u001b[0m Entity.LLM \u001b[1m[\u001b[0m\u001b[35m/\u001b[0m\u001b[95mwhite\u001b[0m\u001b[1m]\u001b[0m \u001b[1m[\u001b[0mgreen\u001b[1m]\u001b[0mEntity.LLM\u001b[1m[\u001b[0m\u001b[35m/\u001b[0m\u001b[95mgreen\u001b[0m\u001b[1m]\u001b[0m\u001b[1m(\u001b[0m          \u001b[1m)\u001b[0m \u001b[1m(\u001b[0m=>          \u001b[1m)\u001b[0m \u001b[1m(\u001b[0mX           \u001b[1m)\u001b[0m       \u001b[1m(\u001b[0m          \u001b[1m)\u001b[0m \u001b[1m[\u001b[0mgreen\u001b[1m]\u001b[0m¡Hola! ¿En qué puedo ayudarte hoy?\u001b[1m[\u001b[0m\u001b[35m/\u001b[0m\u001b[95mgreen\u001b[0m\u001b[1m]\u001b[0m\n"
      ]
     },
     "metadata": {},
     "output_type": "display_data"
    },
    {
     "data": {
      "text/html": [
       "<pre style=\"white-space:pre;overflow-x:auto;line-height:normal;font-family:Menlo,'DejaVu Sans Mono',consolas,'Courier New',monospace\"><span style=\"color: #000080; text-decoration-color: #000080\">Human (respond or q, x to exit current level, or hit enter to continue)</span>\n",
       ": </pre>\n"
      ],
      "text/plain": [
       "\u001b[34mHuman (respond or q, x to exit current level, or hit enter to continue)\u001b[0m\n",
       ": "
      ]
     },
     "metadata": {},
     "output_type": "display_data"
    },
    {
     "name": "stdin",
     "output_type": "stream",
     "text": [
      " cual es la capital de china?\n"
     ]
    },
    {
     "data": {
      "text/html": [
       "<pre style=\"white-space:pre;overflow-x:auto;line-height:normal;font-family:Menlo,'DejaVu Sans Mono',consolas,'Courier New',monospace\">*<span style=\"font-weight: bold\">(</span>Bot<span style=\"font-weight: bold\">)</span> <span style=\"font-weight: bold\">[</span>white<span style=\"font-weight: bold\">]</span> Entity.USER <span style=\"font-weight: bold\">[</span><span style=\"color: #800080; text-decoration-color: #800080\">/</span><span style=\"color: #ff00ff; text-decoration-color: #ff00ff\">white</span><span style=\"font-weight: bold\">]</span> <span style=\"font-weight: bold\">[</span>blue<span style=\"font-weight: bold\">]</span>Entity.USER<span style=\"font-weight: bold\">[</span><span style=\"color: #800080; text-decoration-color: #800080\">/</span><span style=\"color: #ff00ff; text-decoration-color: #ff00ff\">blue</span><span style=\"font-weight: bold\">](</span>          <span style=\"font-weight: bold\">)</span> <span style=\"font-weight: bold\">(</span>=&gt;          <span style=\"font-weight: bold\">)</span> <span style=\"font-weight: bold\">(</span>X           <span style=\"font-weight: bold\">)</span>       <span style=\"font-weight: bold\">(</span>          <span style=\"font-weight: bold\">)</span> <span style=\"font-weight: bold\">[</span>blue<span style=\"font-weight: bold\">]</span>cual es la capital de china?<span style=\"font-weight: bold\">[</span><span style=\"color: #800080; text-decoration-color: #800080\">/</span><span style=\"color: #ff00ff; text-decoration-color: #ff00ff\">blue</span><span style=\"font-weight: bold\">]</span>\n",
       "</pre>\n"
      ],
      "text/plain": [
       "*\u001b[1m(\u001b[0mBot\u001b[1m)\u001b[0m \u001b[1m[\u001b[0mwhite\u001b[1m]\u001b[0m Entity.USER \u001b[1m[\u001b[0m\u001b[35m/\u001b[0m\u001b[95mwhite\u001b[0m\u001b[1m]\u001b[0m \u001b[1m[\u001b[0mblue\u001b[1m]\u001b[0mEntity.USER\u001b[1m[\u001b[0m\u001b[35m/\u001b[0m\u001b[95mblue\u001b[0m\u001b[1m]\u001b[0m\u001b[1m(\u001b[0m          \u001b[1m)\u001b[0m \u001b[1m(\u001b[0m=>          \u001b[1m)\u001b[0m \u001b[1m(\u001b[0mX           \u001b[1m)\u001b[0m       \u001b[1m(\u001b[0m          \u001b[1m)\u001b[0m \u001b[1m[\u001b[0mblue\u001b[1m]\u001b[0mcual es la capital de china?\u001b[1m[\u001b[0m\u001b[35m/\u001b[0m\u001b[95mblue\u001b[0m\u001b[1m]\u001b[0m\n"
      ]
     },
     "metadata": {},
     "output_type": "display_data"
    },
    {
     "data": {
      "text/html": [
       "<pre style=\"white-space:pre;overflow-x:auto;line-height:normal;font-family:Menlo,'DejaVu Sans Mono',consolas,'Courier New',monospace\"> <span style=\"font-weight: bold\">(</span>Bot<span style=\"font-weight: bold\">)</span> <span style=\"font-weight: bold\">[</span>red<span style=\"font-weight: bold\">]</span> Entity.AGENT <span style=\"font-weight: bold\">[</span><span style=\"color: #800080; text-decoration-color: #800080\">/</span><span style=\"color: #ff00ff; text-decoration-color: #ff00ff\">red</span><span style=\"font-weight: bold\">]</span>\n",
       "</pre>\n"
      ],
      "text/plain": [
       " \u001b[1m(\u001b[0mBot\u001b[1m)\u001b[0m \u001b[1m[\u001b[0mred\u001b[1m]\u001b[0m Entity.AGENT \u001b[1m[\u001b[0m\u001b[35m/\u001b[0m\u001b[95mred\u001b[0m\u001b[1m]\u001b[0m\n"
      ]
     },
     "metadata": {},
     "output_type": "display_data"
    },
    {
     "data": {
      "text/html": [
       "<pre style=\"white-space:pre;overflow-x:auto;line-height:normal;font-family:Menlo,'DejaVu Sans Mono',consolas,'Courier New',monospace\"></pre>\n"
      ],
      "text/plain": []
     },
     "metadata": {},
     "output_type": "display_data"
    },
    {
     "name": "stdout",
     "output_type": "stream",
     "text": [
      "\u001b[32m\u001b[32mLa\u001b[32m capital\u001b[32m de\u001b[32m China\u001b[32m es\u001b[32m Pek\u001b[32mín\u001b[32m (\u001b[32mo\u001b[32m Beijing\u001b[32m,\u001b[32m en\u001b[32m caracteres\u001b[32m ch\u001b[32minos\u001b[32m 北京\u001b[32m)."
     ]
    },
    {
     "data": {
      "text/html": [
       "<pre style=\"white-space:pre;overflow-x:auto;line-height:normal;font-family:Menlo,'DejaVu Sans Mono',consolas,'Courier New',monospace\">\n",
       "</pre>\n"
      ],
      "text/plain": [
       "\n"
      ]
     },
     "metadata": {},
     "output_type": "display_data"
    },
    {
     "data": {
      "text/html": [
       "<pre style=\"white-space:pre;overflow-x:auto;line-height:normal;font-family:Menlo,'DejaVu Sans Mono',consolas,'Courier New',monospace\"><span style=\"font-weight: bold\">Stats:</span> <span style=\"color: #800080; text-decoration-color: #800080\">N_MSG</span><span style=\"color: #800080; text-decoration-color: #800080\">=</span><span style=\"color: #800080; text-decoration-color: #800080; font-weight: bold\">4</span><span style=\"color: #800080; text-decoration-color: #800080\">, TOKENS: </span><span style=\"color: #800080; text-decoration-color: #800080\">in</span><span style=\"color: #800080; text-decoration-color: #800080\">=</span><span style=\"color: #800080; text-decoration-color: #800080; font-weight: bold\">34</span><span style=\"color: #800080; text-decoration-color: #800080\">, </span><span style=\"color: #800080; text-decoration-color: #800080\">out</span><span style=\"color: #800080; text-decoration-color: #800080\">=</span><span style=\"color: #800080; text-decoration-color: #800080; font-weight: bold\">20</span><span style=\"color: #800080; text-decoration-color: #800080\">, </span><span style=\"color: #800080; text-decoration-color: #800080\">max</span><span style=\"color: #800080; text-decoration-color: #800080\">=</span><span style=\"color: #800080; text-decoration-color: #800080; font-weight: bold\">1024</span><span style=\"color: #800080; text-decoration-color: #800080\">, </span><span style=\"color: #800080; text-decoration-color: #800080\">ctx</span><span style=\"color: #800080; text-decoration-color: #800080\">=</span><span style=\"color: #800080; text-decoration-color: #800080; font-weight: bold\">128000</span><span style=\"color: #800080; text-decoration-color: #800080\">, COST: </span><span style=\"color: #800080; text-decoration-color: #800080\">now</span><span style=\"color: #800080; text-decoration-color: #800080\">=$</span><span style=\"color: #800080; text-decoration-color: #800080; font-weight: bold\">0.0000</span><span style=\"color: #800080; text-decoration-color: #800080\">, </span><span style=\"color: #800080; text-decoration-color: #800080\">cumul</span><span style=\"color: #800080; text-decoration-color: #800080\">=$</span><span style=\"color: #800080; text-decoration-color: #800080; font-weight: bold\">0.0000</span><span style=\"color: #800080; text-decoration-color: #800080\">, </span><span style=\"color: #800080; text-decoration-color: #800080\">tot</span><span style=\"color: #800080; text-decoration-color: #800080\">=$</span><span style=\"color: #800080; text-decoration-color: #800080; font-weight: bold\">0.0000</span><span style=\"color: #800080; text-decoration-color: #800080\"> </span>\n",
       "<span style=\"color: #800080; text-decoration-color: #800080; font-weight: bold\">(llama3.1:8b)</span>\n",
       "</pre>\n"
      ],
      "text/plain": [
       "\u001b[1mStats:\u001b[0m \u001b[35mN_MSG\u001b[0m\u001b[35m=\u001b[0m\u001b[1;35m4\u001b[0m\u001b[35m, TOKENS: \u001b[0m\u001b[35min\u001b[0m\u001b[35m=\u001b[0m\u001b[1;35m34\u001b[0m\u001b[35m, \u001b[0m\u001b[35mout\u001b[0m\u001b[35m=\u001b[0m\u001b[1;35m20\u001b[0m\u001b[35m, \u001b[0m\u001b[35mmax\u001b[0m\u001b[35m=\u001b[0m\u001b[1;35m1024\u001b[0m\u001b[35m, \u001b[0m\u001b[35mctx\u001b[0m\u001b[35m=\u001b[0m\u001b[1;35m128000\u001b[0m\u001b[35m, COST: \u001b[0m\u001b[35mnow\u001b[0m\u001b[35m=$\u001b[0m\u001b[1;35m0.0000\u001b[0m\u001b[35m, \u001b[0m\u001b[35mcumul\u001b[0m\u001b[35m=$\u001b[0m\u001b[1;35m0.0000\u001b[0m\u001b[35m, \u001b[0m\u001b[35mtot\u001b[0m\u001b[35m=$\u001b[0m\u001b[1;35m0.0000\u001b[0m\u001b[35m \u001b[0m\n",
       "\u001b[1;35m(\u001b[0m\u001b[1;35mllama3.\u001b[0m\u001b[1;35m1:8b\u001b[0m\u001b[1;35m)\u001b[0m\n"
      ]
     },
     "metadata": {},
     "output_type": "display_data"
    },
    {
     "data": {
      "text/html": [
       "<pre style=\"white-space:pre;overflow-x:auto;line-height:normal;font-family:Menlo,'DejaVu Sans Mono',consolas,'Courier New',monospace\">*<span style=\"font-weight: bold\">(</span>Bot<span style=\"font-weight: bold\">)</span> <span style=\"font-weight: bold\">[</span>white<span style=\"font-weight: bold\">]</span> Entity.LLM <span style=\"font-weight: bold\">[</span><span style=\"color: #800080; text-decoration-color: #800080\">/</span><span style=\"color: #ff00ff; text-decoration-color: #ff00ff\">white</span><span style=\"font-weight: bold\">]</span> <span style=\"font-weight: bold\">[</span>green<span style=\"font-weight: bold\">]</span>Entity.LLM<span style=\"font-weight: bold\">[</span><span style=\"color: #800080; text-decoration-color: #800080\">/</span><span style=\"color: #ff00ff; text-decoration-color: #ff00ff\">green</span><span style=\"font-weight: bold\">](</span>          <span style=\"font-weight: bold\">)</span> <span style=\"font-weight: bold\">(</span>=&gt;          <span style=\"font-weight: bold\">)</span> <span style=\"font-weight: bold\">(</span>X           <span style=\"font-weight: bold\">)</span>       <span style=\"font-weight: bold\">(</span>          <span style=\"font-weight: bold\">)</span> <span style=\"font-weight: bold\">[</span>green<span style=\"font-weight: bold\">]</span>La capital de China es Pekín <span style=\"font-weight: bold\">(</span>o Beijing, en caracteres chinos \n",
       "北京<span style=\"font-weight: bold\">)</span>.<span style=\"font-weight: bold\">[</span><span style=\"color: #800080; text-decoration-color: #800080\">/</span><span style=\"color: #ff00ff; text-decoration-color: #ff00ff\">green</span><span style=\"font-weight: bold\">]</span>\n",
       "</pre>\n"
      ],
      "text/plain": [
       "*\u001b[1m(\u001b[0mBot\u001b[1m)\u001b[0m \u001b[1m[\u001b[0mwhite\u001b[1m]\u001b[0m Entity.LLM \u001b[1m[\u001b[0m\u001b[35m/\u001b[0m\u001b[95mwhite\u001b[0m\u001b[1m]\u001b[0m \u001b[1m[\u001b[0mgreen\u001b[1m]\u001b[0mEntity.LLM\u001b[1m[\u001b[0m\u001b[35m/\u001b[0m\u001b[95mgreen\u001b[0m\u001b[1m]\u001b[0m\u001b[1m(\u001b[0m          \u001b[1m)\u001b[0m \u001b[1m(\u001b[0m=>          \u001b[1m)\u001b[0m \u001b[1m(\u001b[0mX           \u001b[1m)\u001b[0m       \u001b[1m(\u001b[0m          \u001b[1m)\u001b[0m \u001b[1m[\u001b[0mgreen\u001b[1m]\u001b[0mLa capital de China es Pekín \u001b[1m(\u001b[0mo Beijing, en caracteres chinos \n",
       "北京\u001b[1m)\u001b[0m.\u001b[1m[\u001b[0m\u001b[35m/\u001b[0m\u001b[95mgreen\u001b[0m\u001b[1m]\u001b[0m\n"
      ]
     },
     "metadata": {},
     "output_type": "display_data"
    },
    {
     "data": {
      "text/html": [
       "<pre style=\"white-space:pre;overflow-x:auto;line-height:normal;font-family:Menlo,'DejaVu Sans Mono',consolas,'Courier New',monospace\"><span style=\"color: #000080; text-decoration-color: #000080\">Human (respond or q, x to exit current level, or hit enter to continue)</span>\n",
       ": </pre>\n"
      ],
      "text/plain": [
       "\u001b[34mHuman (respond or q, x to exit current level, or hit enter to continue)\u001b[0m\n",
       ": "
      ]
     },
     "metadata": {},
     "output_type": "display_data"
    },
    {
     "name": "stdin",
     "output_type": "stream",
     "text": [
      " y la de colombia?\n"
     ]
    },
    {
     "data": {
      "text/html": [
       "<pre style=\"white-space:pre;overflow-x:auto;line-height:normal;font-family:Menlo,'DejaVu Sans Mono',consolas,'Courier New',monospace\">*<span style=\"font-weight: bold\">(</span>Bot<span style=\"font-weight: bold\">)</span> <span style=\"font-weight: bold\">[</span>white<span style=\"font-weight: bold\">]</span> Entity.USER <span style=\"font-weight: bold\">[</span><span style=\"color: #800080; text-decoration-color: #800080\">/</span><span style=\"color: #ff00ff; text-decoration-color: #ff00ff\">white</span><span style=\"font-weight: bold\">]</span> <span style=\"font-weight: bold\">[</span>blue<span style=\"font-weight: bold\">]</span>Entity.USER<span style=\"font-weight: bold\">[</span><span style=\"color: #800080; text-decoration-color: #800080\">/</span><span style=\"color: #ff00ff; text-decoration-color: #ff00ff\">blue</span><span style=\"font-weight: bold\">](</span>          <span style=\"font-weight: bold\">)</span> <span style=\"font-weight: bold\">(</span>=&gt;          <span style=\"font-weight: bold\">)</span> <span style=\"font-weight: bold\">(</span>X           <span style=\"font-weight: bold\">)</span>       <span style=\"font-weight: bold\">(</span>          <span style=\"font-weight: bold\">)</span> <span style=\"font-weight: bold\">[</span>blue<span style=\"font-weight: bold\">]</span>y la de colombia?<span style=\"font-weight: bold\">[</span><span style=\"color: #800080; text-decoration-color: #800080\">/</span><span style=\"color: #ff00ff; text-decoration-color: #ff00ff\">blue</span><span style=\"font-weight: bold\">]</span>\n",
       "</pre>\n"
      ],
      "text/plain": [
       "*\u001b[1m(\u001b[0mBot\u001b[1m)\u001b[0m \u001b[1m[\u001b[0mwhite\u001b[1m]\u001b[0m Entity.USER \u001b[1m[\u001b[0m\u001b[35m/\u001b[0m\u001b[95mwhite\u001b[0m\u001b[1m]\u001b[0m \u001b[1m[\u001b[0mblue\u001b[1m]\u001b[0mEntity.USER\u001b[1m[\u001b[0m\u001b[35m/\u001b[0m\u001b[95mblue\u001b[0m\u001b[1m]\u001b[0m\u001b[1m(\u001b[0m          \u001b[1m)\u001b[0m \u001b[1m(\u001b[0m=>          \u001b[1m)\u001b[0m \u001b[1m(\u001b[0mX           \u001b[1m)\u001b[0m       \u001b[1m(\u001b[0m          \u001b[1m)\u001b[0m \u001b[1m[\u001b[0mblue\u001b[1m]\u001b[0my la de colombia?\u001b[1m[\u001b[0m\u001b[35m/\u001b[0m\u001b[95mblue\u001b[0m\u001b[1m]\u001b[0m\n"
      ]
     },
     "metadata": {},
     "output_type": "display_data"
    },
    {
     "data": {
      "text/html": [
       "<pre style=\"white-space:pre;overflow-x:auto;line-height:normal;font-family:Menlo,'DejaVu Sans Mono',consolas,'Courier New',monospace\"> <span style=\"font-weight: bold\">(</span>Bot<span style=\"font-weight: bold\">)</span> <span style=\"font-weight: bold\">[</span>red<span style=\"font-weight: bold\">]</span> Entity.AGENT <span style=\"font-weight: bold\">[</span><span style=\"color: #800080; text-decoration-color: #800080\">/</span><span style=\"color: #ff00ff; text-decoration-color: #ff00ff\">red</span><span style=\"font-weight: bold\">]</span>\n",
       "</pre>\n"
      ],
      "text/plain": [
       " \u001b[1m(\u001b[0mBot\u001b[1m)\u001b[0m \u001b[1m[\u001b[0mred\u001b[1m]\u001b[0m Entity.AGENT \u001b[1m[\u001b[0m\u001b[35m/\u001b[0m\u001b[95mred\u001b[0m\u001b[1m]\u001b[0m\n"
      ]
     },
     "metadata": {},
     "output_type": "display_data"
    },
    {
     "data": {
      "text/html": [
       "<pre style=\"white-space:pre;overflow-x:auto;line-height:normal;font-family:Menlo,'DejaVu Sans Mono',consolas,'Courier New',monospace\"></pre>\n"
      ],
      "text/plain": []
     },
     "metadata": {},
     "output_type": "display_data"
    },
    {
     "name": "stdout",
     "output_type": "stream",
     "text": [
      "\u001b[32m\u001b[32mLa\u001b[32m capital\u001b[32m de\u001b[32m Colombia\u001b[32m es\u001b[32m Bog\u001b[32mot\u001b[32má\u001b[32m."
     ]
    },
    {
     "data": {
      "text/html": [
       "<pre style=\"white-space:pre;overflow-x:auto;line-height:normal;font-family:Menlo,'DejaVu Sans Mono',consolas,'Courier New',monospace\">\n",
       "</pre>\n"
      ],
      "text/plain": [
       "\n"
      ]
     },
     "metadata": {},
     "output_type": "display_data"
    },
    {
     "data": {
      "text/html": [
       "<pre style=\"white-space:pre;overflow-x:auto;line-height:normal;font-family:Menlo,'DejaVu Sans Mono',consolas,'Courier New',monospace\"><span style=\"font-weight: bold\">Stats:</span> <span style=\"color: #800080; text-decoration-color: #800080\">N_MSG</span><span style=\"color: #800080; text-decoration-color: #800080\">=</span><span style=\"color: #800080; text-decoration-color: #800080; font-weight: bold\">6</span><span style=\"color: #800080; text-decoration-color: #800080\">, TOKENS: </span><span style=\"color: #800080; text-decoration-color: #800080\">in</span><span style=\"color: #800080; text-decoration-color: #800080\">=</span><span style=\"color: #800080; text-decoration-color: #800080; font-weight: bold\">60</span><span style=\"color: #800080; text-decoration-color: #800080\">, </span><span style=\"color: #800080; text-decoration-color: #800080\">out</span><span style=\"color: #800080; text-decoration-color: #800080\">=</span><span style=\"color: #800080; text-decoration-color: #800080; font-weight: bold\">9</span><span style=\"color: #800080; text-decoration-color: #800080\">, </span><span style=\"color: #800080; text-decoration-color: #800080\">max</span><span style=\"color: #800080; text-decoration-color: #800080\">=</span><span style=\"color: #800080; text-decoration-color: #800080; font-weight: bold\">1024</span><span style=\"color: #800080; text-decoration-color: #800080\">, </span><span style=\"color: #800080; text-decoration-color: #800080\">ctx</span><span style=\"color: #800080; text-decoration-color: #800080\">=</span><span style=\"color: #800080; text-decoration-color: #800080; font-weight: bold\">128000</span><span style=\"color: #800080; text-decoration-color: #800080\">, COST: </span><span style=\"color: #800080; text-decoration-color: #800080\">now</span><span style=\"color: #800080; text-decoration-color: #800080\">=$</span><span style=\"color: #800080; text-decoration-color: #800080; font-weight: bold\">0.0000</span><span style=\"color: #800080; text-decoration-color: #800080\">, </span><span style=\"color: #800080; text-decoration-color: #800080\">cumul</span><span style=\"color: #800080; text-decoration-color: #800080\">=$</span><span style=\"color: #800080; text-decoration-color: #800080; font-weight: bold\">0.0000</span><span style=\"color: #800080; text-decoration-color: #800080\">, </span><span style=\"color: #800080; text-decoration-color: #800080\">tot</span><span style=\"color: #800080; text-decoration-color: #800080\">=$</span><span style=\"color: #800080; text-decoration-color: #800080; font-weight: bold\">0.0000</span><span style=\"color: #800080; text-decoration-color: #800080\"> </span>\n",
       "<span style=\"color: #800080; text-decoration-color: #800080; font-weight: bold\">(llama3.1:8b)</span>\n",
       "</pre>\n"
      ],
      "text/plain": [
       "\u001b[1mStats:\u001b[0m \u001b[35mN_MSG\u001b[0m\u001b[35m=\u001b[0m\u001b[1;35m6\u001b[0m\u001b[35m, TOKENS: \u001b[0m\u001b[35min\u001b[0m\u001b[35m=\u001b[0m\u001b[1;35m60\u001b[0m\u001b[35m, \u001b[0m\u001b[35mout\u001b[0m\u001b[35m=\u001b[0m\u001b[1;35m9\u001b[0m\u001b[35m, \u001b[0m\u001b[35mmax\u001b[0m\u001b[35m=\u001b[0m\u001b[1;35m1024\u001b[0m\u001b[35m, \u001b[0m\u001b[35mctx\u001b[0m\u001b[35m=\u001b[0m\u001b[1;35m128000\u001b[0m\u001b[35m, COST: \u001b[0m\u001b[35mnow\u001b[0m\u001b[35m=$\u001b[0m\u001b[1;35m0.0000\u001b[0m\u001b[35m, \u001b[0m\u001b[35mcumul\u001b[0m\u001b[35m=$\u001b[0m\u001b[1;35m0.0000\u001b[0m\u001b[35m, \u001b[0m\u001b[35mtot\u001b[0m\u001b[35m=$\u001b[0m\u001b[1;35m0.0000\u001b[0m\u001b[35m \u001b[0m\n",
       "\u001b[1;35m(\u001b[0m\u001b[1;35mllama3.\u001b[0m\u001b[1;35m1:8b\u001b[0m\u001b[1;35m)\u001b[0m\n"
      ]
     },
     "metadata": {},
     "output_type": "display_data"
    },
    {
     "data": {
      "text/html": [
       "<pre style=\"white-space:pre;overflow-x:auto;line-height:normal;font-family:Menlo,'DejaVu Sans Mono',consolas,'Courier New',monospace\">*<span style=\"font-weight: bold\">(</span>Bot<span style=\"font-weight: bold\">)</span> <span style=\"font-weight: bold\">[</span>white<span style=\"font-weight: bold\">]</span> Entity.LLM <span style=\"font-weight: bold\">[</span><span style=\"color: #800080; text-decoration-color: #800080\">/</span><span style=\"color: #ff00ff; text-decoration-color: #ff00ff\">white</span><span style=\"font-weight: bold\">]</span> <span style=\"font-weight: bold\">[</span>green<span style=\"font-weight: bold\">]</span>Entity.LLM<span style=\"font-weight: bold\">[</span><span style=\"color: #800080; text-decoration-color: #800080\">/</span><span style=\"color: #ff00ff; text-decoration-color: #ff00ff\">green</span><span style=\"font-weight: bold\">](</span>          <span style=\"font-weight: bold\">)</span> <span style=\"font-weight: bold\">(</span>=&gt;          <span style=\"font-weight: bold\">)</span> <span style=\"font-weight: bold\">(</span>X           <span style=\"font-weight: bold\">)</span>       <span style=\"font-weight: bold\">(</span>          <span style=\"font-weight: bold\">)</span> <span style=\"font-weight: bold\">[</span>green<span style=\"font-weight: bold\">]</span>La capital de Colombia es Bogotá.<span style=\"font-weight: bold\">[</span><span style=\"color: #800080; text-decoration-color: #800080\">/</span><span style=\"color: #ff00ff; text-decoration-color: #ff00ff\">green</span><span style=\"font-weight: bold\">]</span>\n",
       "</pre>\n"
      ],
      "text/plain": [
       "*\u001b[1m(\u001b[0mBot\u001b[1m)\u001b[0m \u001b[1m[\u001b[0mwhite\u001b[1m]\u001b[0m Entity.LLM \u001b[1m[\u001b[0m\u001b[35m/\u001b[0m\u001b[95mwhite\u001b[0m\u001b[1m]\u001b[0m \u001b[1m[\u001b[0mgreen\u001b[1m]\u001b[0mEntity.LLM\u001b[1m[\u001b[0m\u001b[35m/\u001b[0m\u001b[95mgreen\u001b[0m\u001b[1m]\u001b[0m\u001b[1m(\u001b[0m          \u001b[1m)\u001b[0m \u001b[1m(\u001b[0m=>          \u001b[1m)\u001b[0m \u001b[1m(\u001b[0mX           \u001b[1m)\u001b[0m       \u001b[1m(\u001b[0m          \u001b[1m)\u001b[0m \u001b[1m[\u001b[0mgreen\u001b[1m]\u001b[0mLa capital de Colombia es Bogotá.\u001b[1m[\u001b[0m\u001b[35m/\u001b[0m\u001b[95mgreen\u001b[0m\u001b[1m]\u001b[0m\n"
      ]
     },
     "metadata": {},
     "output_type": "display_data"
    },
    {
     "data": {
      "text/html": [
       "<pre style=\"white-space:pre;overflow-x:auto;line-height:normal;font-family:Menlo,'DejaVu Sans Mono',consolas,'Courier New',monospace\"><span style=\"color: #000080; text-decoration-color: #000080\">Human (respond or q, x to exit current level, or hit enter to continue)</span>\n",
       ": </pre>\n"
      ],
      "text/plain": [
       "\u001b[34mHuman (respond or q, x to exit current level, or hit enter to continue)\u001b[0m\n",
       ": "
      ]
     },
     "metadata": {},
     "output_type": "display_data"
    },
    {
     "name": "stdin",
     "output_type": "stream",
     "text": [
      " q\n"
     ]
    },
    {
     "data": {
      "text/html": [
       "<pre style=\"white-space:pre;overflow-x:auto;line-height:normal;font-family:Menlo,'DejaVu Sans Mono',consolas,'Courier New',monospace\">*<span style=\"font-weight: bold\">(</span>Bot<span style=\"font-weight: bold\">)</span> <span style=\"font-weight: bold\">[</span>white<span style=\"font-weight: bold\">]</span> Entity.USER <span style=\"font-weight: bold\">[</span><span style=\"color: #800080; text-decoration-color: #800080\">/</span><span style=\"color: #ff00ff; text-decoration-color: #ff00ff\">white</span><span style=\"font-weight: bold\">]</span> <span style=\"font-weight: bold\">[</span>blue<span style=\"font-weight: bold\">]</span>Entity.USER<span style=\"font-weight: bold\">[</span><span style=\"color: #800080; text-decoration-color: #800080\">/</span><span style=\"color: #ff00ff; text-decoration-color: #ff00ff\">blue</span><span style=\"font-weight: bold\">](</span>          <span style=\"font-weight: bold\">)</span> <span style=\"font-weight: bold\">(</span>=&gt;          <span style=\"font-weight: bold\">)</span> <span style=\"font-weight: bold\">(</span>X           <span style=\"font-weight: bold\">)</span>       <span style=\"font-weight: bold\">(</span>          <span style=\"font-weight: bold\">)</span> <span style=\"font-weight: bold\">[</span>blue<span style=\"font-weight: bold\">]</span>q<span style=\"font-weight: bold\">[</span><span style=\"color: #800080; text-decoration-color: #800080\">/</span><span style=\"color: #ff00ff; text-decoration-color: #ff00ff\">blue</span><span style=\"font-weight: bold\">]</span>\n",
       "</pre>\n"
      ],
      "text/plain": [
       "*\u001b[1m(\u001b[0mBot\u001b[1m)\u001b[0m \u001b[1m[\u001b[0mwhite\u001b[1m]\u001b[0m Entity.USER \u001b[1m[\u001b[0m\u001b[35m/\u001b[0m\u001b[95mwhite\u001b[0m\u001b[1m]\u001b[0m \u001b[1m[\u001b[0mblue\u001b[1m]\u001b[0mEntity.USER\u001b[1m[\u001b[0m\u001b[35m/\u001b[0m\u001b[95mblue\u001b[0m\u001b[1m]\u001b[0m\u001b[1m(\u001b[0m          \u001b[1m)\u001b[0m \u001b[1m(\u001b[0m=>          \u001b[1m)\u001b[0m \u001b[1m(\u001b[0mX           \u001b[1m)\u001b[0m       \u001b[1m(\u001b[0m          \u001b[1m)\u001b[0m \u001b[1m[\u001b[0mblue\u001b[1m]\u001b[0mq\u001b[1m[\u001b[0m\u001b[35m/\u001b[0m\u001b[95mblue\u001b[0m\u001b[1m]\u001b[0m\n"
      ]
     },
     "metadata": {},
     "output_type": "display_data"
    },
    {
     "data": {
      "text/html": [
       "<pre style=\"white-space:pre;overflow-x:auto;line-height:normal;font-family:Menlo,'DejaVu Sans Mono',consolas,'Courier New',monospace\"><span style=\"color: #800080; text-decoration-color: #800080\">Bye, hope this was useful!</span>\n",
       "</pre>\n"
      ],
      "text/plain": [
       "\u001b[35mBye, hope this was useful!\u001b[0m\n"
      ]
     },
     "metadata": {},
     "output_type": "display_data"
    },
    {
     "data": {
      "text/html": [
       "<pre style=\"white-space:pre;overflow-x:auto;line-height:normal;font-family:Menlo,'DejaVu Sans Mono',consolas,'Courier New',monospace\"><span style=\"color: #800080; text-decoration-color: #800080; font-weight: bold\">&lt;&lt;&lt; Finished Agent Bot (</span><span style=\"color: #800080; text-decoration-color: #800080; font-weight: bold\">7</span><span style=\"color: #800080; text-decoration-color: #800080; font-weight: bold\">) </span>\n",
       "</pre>\n"
      ],
      "text/plain": [
       "\u001b[1;35m<<< Finished Agent Bot \u001b[0m\u001b[1;35m(\u001b[0m\u001b[1;35m7\u001b[0m\u001b[1;35m)\u001b[0m\u001b[1;35m \u001b[0m\n"
      ]
     },
     "metadata": {},
     "output_type": "display_data"
    },
    {
     "data": {
      "text/plain": [
       "ChatDocument(content='q', metadata=ChatDocMetaData(source='User', is_chunk=False, id='5a59830e-67a9-43d2-aa8b-c4a9c2ce3977', window_ids=[], parent_id='248f3aca-e08b-412c-a460-6535a37329bc', child_id='', agent_id='default=PydanticUndefined default_factory=<function Agent.<lambda> at 0x77cd594d1300> extra={}', msg_idx=-1, sender=<Entity.USER: 'User'>, oai_tool_id=None, tool_ids=[], block=None, sender_name='Bot', recipient='', usage=None, cached=False, displayed=False, has_citation=False, status=<StatusCode.USER_QUIT: 'USER_QUIT'>), content_any=None, oai_tool_calls=None, oai_tool_id2result=None, oai_tool_choice='auto', function_call=None, tool_messages=[], all_tool_messages=[], attachment=None)"
      ]
     },
     "execution_count": 8,
     "metadata": {},
     "output_type": "execute_result"
    }
   ],
   "source": [
    "agent = lr.ChatAgent(agent_cfg)\n",
    "task = lr.Task(\n",
    "    agent,\n",
    "    system_message='Answer always in Spanish',\n",
    "    name=\"Bot\"\n",
    ")\n",
    "task.run(\"Hola\")"
   ]
  },
  {
   "cell_type": "markdown",
   "id": "f2839ac9-dd03-413c-a6be-65ff8987eba1",
   "metadata": {},
   "source": [
    "## Teacher Agent talk to a Student Agent"
   ]
  },
  {
   "cell_type": "code",
   "execution_count": 16,
   "id": "161b5901-9e15-4df3-8f77-34ae8063407f",
   "metadata": {},
   "outputs": [
    {
     "data": {
      "text/html": [
       "<pre style=\"white-space:pre;overflow-x:auto;line-height:normal;font-family:Menlo,'DejaVu Sans Mono',consolas,'Courier New',monospace\"> <span style=\"font-weight: bold\">(</span>Teacher<span style=\"font-weight: bold\">)</span> <span style=\"font-weight: bold\">[</span>red<span style=\"font-weight: bold\">]</span> Entity.USER <span style=\"font-weight: bold\">[</span><span style=\"color: #800080; text-decoration-color: #800080\">/</span><span style=\"color: #ff00ff; text-decoration-color: #ff00ff\">red</span><span style=\"font-weight: bold\">]</span>\n",
       "</pre>\n"
      ],
      "text/plain": [
       " \u001b[1m(\u001b[0mTeacher\u001b[1m)\u001b[0m \u001b[1m[\u001b[0mred\u001b[1m]\u001b[0m Entity.USER \u001b[1m[\u001b[0m\u001b[35m/\u001b[0m\u001b[95mred\u001b[0m\u001b[1m]\u001b[0m\n"
      ]
     },
     "metadata": {},
     "output_type": "display_data"
    },
    {
     "data": {
      "text/html": [
       "<pre style=\"white-space:pre;overflow-x:auto;line-height:normal;font-family:Menlo,'DejaVu Sans Mono',consolas,'Courier New',monospace\"><span style=\"color: #800080; text-decoration-color: #800080; font-weight: bold\">&gt;&gt;&gt; Starting Agent Teacher (</span><span style=\"color: #800080; text-decoration-color: #800080; font-weight: bold\">1</span><span style=\"color: #800080; text-decoration-color: #800080; font-weight: bold\">) llama3.1:8b </span>\n",
       "</pre>\n"
      ],
      "text/plain": [
       "\u001b[1;35m>>> Starting Agent Teacher \u001b[0m\u001b[1;35m(\u001b[0m\u001b[1;35m1\u001b[0m\u001b[1;35m)\u001b[0m\u001b[1;35m llama3.\u001b[0m\u001b[1;35m1:8b\u001b[0m\u001b[1;35m \u001b[0m\n"
      ]
     },
     "metadata": {},
     "output_type": "display_data"
    },
    {
     "data": {
      "text/html": [
       "<pre style=\"white-space:pre;overflow-x:auto;line-height:normal;font-family:Menlo,'DejaVu Sans Mono',consolas,'Courier New',monospace\"> <span style=\"font-weight: bold\">(</span>Teacher<span style=\"font-weight: bold\">)</span> <span style=\"font-weight: bold\">[</span>red<span style=\"font-weight: bold\">]</span> Entity.USER <span style=\"font-weight: bold\">[</span><span style=\"color: #800080; text-decoration-color: #800080\">/</span><span style=\"color: #ff00ff; text-decoration-color: #ff00ff\">red</span><span style=\"font-weight: bold\">]</span> <span style=\"font-weight: bold\">[</span>blue<span style=\"font-weight: bold\">]</span>Entity.USER<span style=\"font-weight: bold\">[</span><span style=\"color: #800080; text-decoration-color: #800080\">/</span><span style=\"color: #ff00ff; text-decoration-color: #ff00ff\">blue</span><span style=\"font-weight: bold\">](</span>Entity.USER<span style=\"font-weight: bold\">)</span> <span style=\"font-weight: bold\">(</span>=&gt;          <span style=\"font-weight: bold\">)</span> <span style=\"font-weight: bold\">(</span>X           <span style=\"font-weight: bold\">)</span>       <span style=\"font-weight: bold\">(</span>          <span style=\"font-weight: bold\">)</span> <span style=\"font-weight: bold\">[</span>blue<span style=\"font-weight: bold\">][</span>CANNOT RESPOND<span style=\"font-weight: bold\">][</span><span style=\"color: #800080; text-decoration-color: #800080\">/</span><span style=\"color: #ff00ff; text-decoration-color: #ff00ff\">blue</span><span style=\"font-weight: bold\">]</span>\n",
       "</pre>\n"
      ],
      "text/plain": [
       " \u001b[1m(\u001b[0mTeacher\u001b[1m)\u001b[0m \u001b[1m[\u001b[0mred\u001b[1m]\u001b[0m Entity.USER \u001b[1m[\u001b[0m\u001b[35m/\u001b[0m\u001b[95mred\u001b[0m\u001b[1m]\u001b[0m \u001b[1m[\u001b[0mblue\u001b[1m]\u001b[0mEntity.USER\u001b[1m[\u001b[0m\u001b[35m/\u001b[0m\u001b[95mblue\u001b[0m\u001b[1m]\u001b[0m\u001b[1m(\u001b[0mEntity.USER\u001b[1m)\u001b[0m \u001b[1m(\u001b[0m=>          \u001b[1m)\u001b[0m \u001b[1m(\u001b[0mX           \u001b[1m)\u001b[0m       \u001b[1m(\u001b[0m          \u001b[1m)\u001b[0m \u001b[1m[\u001b[0mblue\u001b[1m]\u001b[0m\u001b[1m[\u001b[0mCANNOT RESPOND\u001b[1m]\u001b[0m\u001b[1m[\u001b[0m\u001b[35m/\u001b[0m\u001b[95mblue\u001b[0m\u001b[1m]\u001b[0m\n"
      ]
     },
     "metadata": {},
     "output_type": "display_data"
    },
    {
     "data": {
      "text/html": [
       "<pre style=\"white-space:pre;overflow-x:auto;line-height:normal;font-family:Menlo,'DejaVu Sans Mono',consolas,'Courier New',monospace\"> <span style=\"font-weight: bold\">(</span>Teacher<span style=\"font-weight: bold\">)</span> <span style=\"font-weight: bold\">[</span>red<span style=\"font-weight: bold\">]</span> Entity.AGENT <span style=\"font-weight: bold\">[</span><span style=\"color: #800080; text-decoration-color: #800080\">/</span><span style=\"color: #ff00ff; text-decoration-color: #ff00ff\">red</span><span style=\"font-weight: bold\">]</span>\n",
       "</pre>\n"
      ],
      "text/plain": [
       " \u001b[1m(\u001b[0mTeacher\u001b[1m)\u001b[0m \u001b[1m[\u001b[0mred\u001b[1m]\u001b[0m Entity.AGENT \u001b[1m[\u001b[0m\u001b[35m/\u001b[0m\u001b[95mred\u001b[0m\u001b[1m]\u001b[0m\n"
      ]
     },
     "metadata": {},
     "output_type": "display_data"
    },
    {
     "data": {
      "text/html": [
       "<pre style=\"white-space:pre;overflow-x:auto;line-height:normal;font-family:Menlo,'DejaVu Sans Mono',consolas,'Courier New',monospace\"></pre>\n"
      ],
      "text/plain": []
     },
     "metadata": {},
     "output_type": "display_data"
    },
    {
     "name": "stdout",
     "output_type": "stream",
     "text": [
      "\u001b[32m"
     ]
    },
    {
     "data": {
      "text/html": [
       "<pre style=\"white-space:pre;overflow-x:auto;line-height:normal;font-family:Menlo,'DejaVu Sans Mono',consolas,'Courier New',monospace\">\n",
       "</pre>\n"
      ],
      "text/plain": [
       "\n"
      ]
     },
     "metadata": {},
     "output_type": "display_data"
    },
    {
     "data": {
      "text/html": [
       "<pre style=\"white-space:pre;overflow-x:auto;line-height:normal;font-family:Menlo,'DejaVu Sans Mono',consolas,'Courier New',monospace\"><span style=\"font-weight: bold\">Stats:</span> <span style=\"color: #800080; text-decoration-color: #800080\">N_MSG</span><span style=\"color: #800080; text-decoration-color: #800080\">=</span><span style=\"color: #800080; text-decoration-color: #800080; font-weight: bold\">1</span><span style=\"color: #800080; text-decoration-color: #800080\">, TOKENS: </span><span style=\"color: #800080; text-decoration-color: #800080\">in</span><span style=\"color: #800080; text-decoration-color: #800080\">=</span><span style=\"color: #800080; text-decoration-color: #800080; font-weight: bold\">27</span><span style=\"color: #800080; text-decoration-color: #800080\">, </span><span style=\"color: #800080; text-decoration-color: #800080\">out</span><span style=\"color: #800080; text-decoration-color: #800080\">=</span><span style=\"color: #800080; text-decoration-color: #800080; font-weight: bold\">1</span><span style=\"color: #800080; text-decoration-color: #800080\">, </span><span style=\"color: #800080; text-decoration-color: #800080\">max</span><span style=\"color: #800080; text-decoration-color: #800080\">=</span><span style=\"color: #800080; text-decoration-color: #800080; font-weight: bold\">1024</span><span style=\"color: #800080; text-decoration-color: #800080\">, </span><span style=\"color: #800080; text-decoration-color: #800080\">ctx</span><span style=\"color: #800080; text-decoration-color: #800080\">=</span><span style=\"color: #800080; text-decoration-color: #800080; font-weight: bold\">128000</span><span style=\"color: #800080; text-decoration-color: #800080\">, COST: </span><span style=\"color: #800080; text-decoration-color: #800080\">now</span><span style=\"color: #800080; text-decoration-color: #800080\">=$</span><span style=\"color: #800080; text-decoration-color: #800080; font-weight: bold\">0.0000</span><span style=\"color: #800080; text-decoration-color: #800080\">, </span><span style=\"color: #800080; text-decoration-color: #800080\">cumul</span><span style=\"color: #800080; text-decoration-color: #800080\">=$</span><span style=\"color: #800080; text-decoration-color: #800080; font-weight: bold\">0.0000</span><span style=\"color: #800080; text-decoration-color: #800080\">, </span><span style=\"color: #800080; text-decoration-color: #800080\">tot</span><span style=\"color: #800080; text-decoration-color: #800080\">=$</span><span style=\"color: #800080; text-decoration-color: #800080; font-weight: bold\">0.0000</span><span style=\"color: #800080; text-decoration-color: #800080\"> </span>\n",
       "<span style=\"color: #800080; text-decoration-color: #800080; font-weight: bold\">(llama3.1:8b)</span>\n",
       "</pre>\n"
      ],
      "text/plain": [
       "\u001b[1mStats:\u001b[0m \u001b[35mN_MSG\u001b[0m\u001b[35m=\u001b[0m\u001b[1;35m1\u001b[0m\u001b[35m, TOKENS: \u001b[0m\u001b[35min\u001b[0m\u001b[35m=\u001b[0m\u001b[1;35m27\u001b[0m\u001b[35m, \u001b[0m\u001b[35mout\u001b[0m\u001b[35m=\u001b[0m\u001b[1;35m1\u001b[0m\u001b[35m, \u001b[0m\u001b[35mmax\u001b[0m\u001b[35m=\u001b[0m\u001b[1;35m1024\u001b[0m\u001b[35m, \u001b[0m\u001b[35mctx\u001b[0m\u001b[35m=\u001b[0m\u001b[1;35m128000\u001b[0m\u001b[35m, COST: \u001b[0m\u001b[35mnow\u001b[0m\u001b[35m=$\u001b[0m\u001b[1;35m0.0000\u001b[0m\u001b[35m, \u001b[0m\u001b[35mcumul\u001b[0m\u001b[35m=$\u001b[0m\u001b[1;35m0.0000\u001b[0m\u001b[35m, \u001b[0m\u001b[35mtot\u001b[0m\u001b[35m=$\u001b[0m\u001b[1;35m0.0000\u001b[0m\u001b[35m \u001b[0m\n",
       "\u001b[1;35m(\u001b[0m\u001b[1;35mllama3.\u001b[0m\u001b[1;35m1:8b\u001b[0m\u001b[1;35m)\u001b[0m\n"
      ]
     },
     "metadata": {},
     "output_type": "display_data"
    },
    {
     "data": {
      "text/html": [
       "<pre style=\"white-space:pre;overflow-x:auto;line-height:normal;font-family:Menlo,'DejaVu Sans Mono',consolas,'Courier New',monospace\"> <span style=\"font-weight: bold\">(</span>Teacher<span style=\"font-weight: bold\">)</span> <span style=\"font-weight: bold\">[</span>red<span style=\"font-weight: bold\">]</span> Entity.LLM <span style=\"font-weight: bold\">[</span><span style=\"color: #800080; text-decoration-color: #800080\">/</span><span style=\"color: #ff00ff; text-decoration-color: #ff00ff\">red</span><span style=\"font-weight: bold\">]</span> <span style=\"font-weight: bold\">[</span>green<span style=\"font-weight: bold\">]</span>Entity.LLM<span style=\"font-weight: bold\">[</span><span style=\"color: #800080; text-decoration-color: #800080\">/</span><span style=\"color: #ff00ff; text-decoration-color: #ff00ff\">green</span><span style=\"font-weight: bold\">](</span>          <span style=\"font-weight: bold\">)</span> <span style=\"font-weight: bold\">(</span>=&gt;          <span style=\"font-weight: bold\">)</span> <span style=\"font-weight: bold\">(</span>X           <span style=\"font-weight: bold\">)</span>       <span style=\"font-weight: bold\">(</span>          <span style=\"font-weight: bold\">)</span> <span style=\"font-weight: bold\">[</span>green<span style=\"font-weight: bold\">][</span><span style=\"color: #800080; text-decoration-color: #800080\">/</span><span style=\"color: #ff00ff; text-decoration-color: #ff00ff\">green</span><span style=\"font-weight: bold\">]</span>\n",
       "</pre>\n"
      ],
      "text/plain": [
       " \u001b[1m(\u001b[0mTeacher\u001b[1m)\u001b[0m \u001b[1m[\u001b[0mred\u001b[1m]\u001b[0m Entity.LLM \u001b[1m[\u001b[0m\u001b[35m/\u001b[0m\u001b[95mred\u001b[0m\u001b[1m]\u001b[0m \u001b[1m[\u001b[0mgreen\u001b[1m]\u001b[0mEntity.LLM\u001b[1m[\u001b[0m\u001b[35m/\u001b[0m\u001b[95mgreen\u001b[0m\u001b[1m]\u001b[0m\u001b[1m(\u001b[0m          \u001b[1m)\u001b[0m \u001b[1m(\u001b[0m=>          \u001b[1m)\u001b[0m \u001b[1m(\u001b[0mX           \u001b[1m)\u001b[0m       \u001b[1m(\u001b[0m          \u001b[1m)\u001b[0m \u001b[1m[\u001b[0mgreen\u001b[1m]\u001b[0m\u001b[1m[\u001b[0m\u001b[35m/\u001b[0m\u001b[95mgreen\u001b[0m\u001b[1m]\u001b[0m\n"
      ]
     },
     "metadata": {},
     "output_type": "display_data"
    },
    {
     "data": {
      "text/html": [
       "<pre style=\"white-space:pre;overflow-x:auto;line-height:normal;font-family:Menlo,'DejaVu Sans Mono',consolas,'Courier New',monospace\"> <span style=\"font-weight: bold\">(</span>Student<span style=\"font-weight: bold\">)</span> <span style=\"font-weight: bold\">[</span>red<span style=\"font-weight: bold\">]</span> Entity.USER <span style=\"font-weight: bold\">[</span><span style=\"color: #800080; text-decoration-color: #800080\">/</span><span style=\"color: #ff00ff; text-decoration-color: #ff00ff\">red</span><span style=\"font-weight: bold\">]</span>\n",
       "</pre>\n"
      ],
      "text/plain": [
       " \u001b[1m(\u001b[0mStudent\u001b[1m)\u001b[0m \u001b[1m[\u001b[0mred\u001b[1m]\u001b[0m Entity.USER \u001b[1m[\u001b[0m\u001b[35m/\u001b[0m\u001b[95mred\u001b[0m\u001b[1m]\u001b[0m\n"
      ]
     },
     "metadata": {},
     "output_type": "display_data"
    },
    {
     "data": {
      "text/html": [
       "<pre style=\"white-space:pre;overflow-x:auto;line-height:normal;font-family:Menlo,'DejaVu Sans Mono',consolas,'Courier New',monospace\"><span style=\"color: #800080; text-decoration-color: #800080; font-weight: bold\">...|&gt;&gt;&gt; Starting Agent Student (</span><span style=\"color: #800080; text-decoration-color: #800080; font-weight: bold\">1</span><span style=\"color: #800080; text-decoration-color: #800080; font-weight: bold\">) llama3.1:8b </span>\n",
       "</pre>\n"
      ],
      "text/plain": [
       "\u001b[1;35m...\u001b[0m\u001b[1;35m|>>> Starting Agent Student \u001b[0m\u001b[1;35m(\u001b[0m\u001b[1;35m1\u001b[0m\u001b[1;35m)\u001b[0m\u001b[1;35m llama3.\u001b[0m\u001b[1;35m1:8b\u001b[0m\u001b[1;35m \u001b[0m\n"
      ]
     },
     "metadata": {},
     "output_type": "display_data"
    },
    {
     "data": {
      "text/html": [
       "<pre style=\"white-space:pre;overflow-x:auto;line-height:normal;font-family:Menlo,'DejaVu Sans Mono',consolas,'Courier New',monospace\"> <span style=\"font-weight: bold\">(</span>Student<span style=\"font-weight: bold\">)</span> <span style=\"font-weight: bold\">[</span>red<span style=\"font-weight: bold\">]</span> Entity.USER <span style=\"font-weight: bold\">[</span><span style=\"color: #800080; text-decoration-color: #800080\">/</span><span style=\"color: #ff00ff; text-decoration-color: #ff00ff\">red</span><span style=\"font-weight: bold\">]</span> <span style=\"font-weight: bold\">[</span>blue<span style=\"font-weight: bold\">]</span>Entity.USER<span style=\"font-weight: bold\">[</span><span style=\"color: #800080; text-decoration-color: #800080\">/</span><span style=\"color: #ff00ff; text-decoration-color: #ff00ff\">blue</span><span style=\"font-weight: bold\">](</span>Entity.USER<span style=\"font-weight: bold\">)</span> <span style=\"font-weight: bold\">(</span>=&gt;          <span style=\"font-weight: bold\">)</span> <span style=\"font-weight: bold\">(</span>X           <span style=\"font-weight: bold\">)</span>       <span style=\"font-weight: bold\">(</span>          <span style=\"font-weight: bold\">)</span> <span style=\"font-weight: bold\">[</span>blue<span style=\"font-weight: bold\">][</span>CANNOT RESPOND<span style=\"font-weight: bold\">][</span><span style=\"color: #800080; text-decoration-color: #800080\">/</span><span style=\"color: #ff00ff; text-decoration-color: #ff00ff\">blue</span><span style=\"font-weight: bold\">]</span>\n",
       "</pre>\n"
      ],
      "text/plain": [
       " \u001b[1m(\u001b[0mStudent\u001b[1m)\u001b[0m \u001b[1m[\u001b[0mred\u001b[1m]\u001b[0m Entity.USER \u001b[1m[\u001b[0m\u001b[35m/\u001b[0m\u001b[95mred\u001b[0m\u001b[1m]\u001b[0m \u001b[1m[\u001b[0mblue\u001b[1m]\u001b[0mEntity.USER\u001b[1m[\u001b[0m\u001b[35m/\u001b[0m\u001b[95mblue\u001b[0m\u001b[1m]\u001b[0m\u001b[1m(\u001b[0mEntity.USER\u001b[1m)\u001b[0m \u001b[1m(\u001b[0m=>          \u001b[1m)\u001b[0m \u001b[1m(\u001b[0mX           \u001b[1m)\u001b[0m       \u001b[1m(\u001b[0m          \u001b[1m)\u001b[0m \u001b[1m[\u001b[0mblue\u001b[1m]\u001b[0m\u001b[1m[\u001b[0mCANNOT RESPOND\u001b[1m]\u001b[0m\u001b[1m[\u001b[0m\u001b[35m/\u001b[0m\u001b[95mblue\u001b[0m\u001b[1m]\u001b[0m\n"
      ]
     },
     "metadata": {},
     "output_type": "display_data"
    },
    {
     "data": {
      "text/html": [
       "<pre style=\"white-space:pre;overflow-x:auto;line-height:normal;font-family:Menlo,'DejaVu Sans Mono',consolas,'Courier New',monospace\"> <span style=\"font-weight: bold\">(</span>Student<span style=\"font-weight: bold\">)</span> <span style=\"font-weight: bold\">[</span>red<span style=\"font-weight: bold\">]</span> Entity.AGENT <span style=\"font-weight: bold\">[</span><span style=\"color: #800080; text-decoration-color: #800080\">/</span><span style=\"color: #ff00ff; text-decoration-color: #ff00ff\">red</span><span style=\"font-weight: bold\">]</span>\n",
       "</pre>\n"
      ],
      "text/plain": [
       " \u001b[1m(\u001b[0mStudent\u001b[1m)\u001b[0m \u001b[1m[\u001b[0mred\u001b[1m]\u001b[0m Entity.AGENT \u001b[1m[\u001b[0m\u001b[35m/\u001b[0m\u001b[95mred\u001b[0m\u001b[1m]\u001b[0m\n"
      ]
     },
     "metadata": {},
     "output_type": "display_data"
    },
    {
     "data": {
      "text/html": [
       "<pre style=\"white-space:pre;overflow-x:auto;line-height:normal;font-family:Menlo,'DejaVu Sans Mono',consolas,'Courier New',monospace\"><span style=\"color: #008000; text-decoration-color: #008000\">...|</span></pre>\n"
      ],
      "text/plain": [
       "\u001b[32m...\u001b[0m\u001b[32m|\u001b[0m"
      ]
     },
     "metadata": {},
     "output_type": "display_data"
    },
    {
     "name": "stdout",
     "output_type": "stream",
     "text": [
      "\u001b[32m"
     ]
    },
    {
     "data": {
      "text/html": [
       "<pre style=\"white-space:pre;overflow-x:auto;line-height:normal;font-family:Menlo,'DejaVu Sans Mono',consolas,'Courier New',monospace\">\n",
       "</pre>\n"
      ],
      "text/plain": [
       "\n"
      ]
     },
     "metadata": {},
     "output_type": "display_data"
    },
    {
     "data": {
      "text/html": [
       "<pre style=\"white-space:pre;overflow-x:auto;line-height:normal;font-family:Menlo,'DejaVu Sans Mono',consolas,'Courier New',monospace\"><span style=\"color: #808000; text-decoration-color: #808000\">...</span>|<span style=\"font-weight: bold\">Stats:</span> <span style=\"color: #800080; text-decoration-color: #800080\">N_MSG</span><span style=\"color: #800080; text-decoration-color: #800080\">=</span><span style=\"color: #800080; text-decoration-color: #800080; font-weight: bold\">1</span><span style=\"color: #800080; text-decoration-color: #800080\">, TOKENS: </span><span style=\"color: #800080; text-decoration-color: #800080\">in</span><span style=\"color: #800080; text-decoration-color: #800080\">=</span><span style=\"color: #800080; text-decoration-color: #800080; font-weight: bold\">18</span><span style=\"color: #800080; text-decoration-color: #800080\">, </span><span style=\"color: #800080; text-decoration-color: #800080\">out</span><span style=\"color: #800080; text-decoration-color: #800080\">=</span><span style=\"color: #800080; text-decoration-color: #800080; font-weight: bold\">1</span><span style=\"color: #800080; text-decoration-color: #800080\">, </span><span style=\"color: #800080; text-decoration-color: #800080\">max</span><span style=\"color: #800080; text-decoration-color: #800080\">=</span><span style=\"color: #800080; text-decoration-color: #800080; font-weight: bold\">1024</span><span style=\"color: #800080; text-decoration-color: #800080\">, </span><span style=\"color: #800080; text-decoration-color: #800080\">ctx</span><span style=\"color: #800080; text-decoration-color: #800080\">=</span><span style=\"color: #800080; text-decoration-color: #800080; font-weight: bold\">128000</span><span style=\"color: #800080; text-decoration-color: #800080\">, COST: </span><span style=\"color: #800080; text-decoration-color: #800080\">now</span><span style=\"color: #800080; text-decoration-color: #800080\">=$</span><span style=\"color: #800080; text-decoration-color: #800080; font-weight: bold\">0.0000</span><span style=\"color: #800080; text-decoration-color: #800080\">, </span><span style=\"color: #800080; text-decoration-color: #800080\">cumul</span><span style=\"color: #800080; text-decoration-color: #800080\">=$</span><span style=\"color: #800080; text-decoration-color: #800080; font-weight: bold\">0.0000</span><span style=\"color: #800080; text-decoration-color: #800080\">, </span><span style=\"color: #800080; text-decoration-color: #800080\">tot</span><span style=\"color: #800080; text-decoration-color: #800080\">=$</span><span style=\"color: #800080; text-decoration-color: #800080; font-weight: bold\">0.0000</span><span style=\"color: #800080; text-decoration-color: #800080\"> </span>\n",
       "<span style=\"color: #800080; text-decoration-color: #800080; font-weight: bold\">(llama3.1:8b)</span>\n",
       "</pre>\n"
      ],
      "text/plain": [
       "\u001b[33m...\u001b[0m|\u001b[1mStats:\u001b[0m \u001b[35mN_MSG\u001b[0m\u001b[35m=\u001b[0m\u001b[1;35m1\u001b[0m\u001b[35m, TOKENS: \u001b[0m\u001b[35min\u001b[0m\u001b[35m=\u001b[0m\u001b[1;35m18\u001b[0m\u001b[35m, \u001b[0m\u001b[35mout\u001b[0m\u001b[35m=\u001b[0m\u001b[1;35m1\u001b[0m\u001b[35m, \u001b[0m\u001b[35mmax\u001b[0m\u001b[35m=\u001b[0m\u001b[1;35m1024\u001b[0m\u001b[35m, \u001b[0m\u001b[35mctx\u001b[0m\u001b[35m=\u001b[0m\u001b[1;35m128000\u001b[0m\u001b[35m, COST: \u001b[0m\u001b[35mnow\u001b[0m\u001b[35m=$\u001b[0m\u001b[1;35m0.0000\u001b[0m\u001b[35m, \u001b[0m\u001b[35mcumul\u001b[0m\u001b[35m=$\u001b[0m\u001b[1;35m0.0000\u001b[0m\u001b[35m, \u001b[0m\u001b[35mtot\u001b[0m\u001b[35m=$\u001b[0m\u001b[1;35m0.0000\u001b[0m\u001b[35m \u001b[0m\n",
       "\u001b[1;35m(\u001b[0m\u001b[1;35mllama3.\u001b[0m\u001b[1;35m1:8b\u001b[0m\u001b[1;35m)\u001b[0m\n"
      ]
     },
     "metadata": {},
     "output_type": "display_data"
    },
    {
     "data": {
      "text/html": [
       "<pre style=\"white-space:pre;overflow-x:auto;line-height:normal;font-family:Menlo,'DejaVu Sans Mono',consolas,'Courier New',monospace\"> <span style=\"font-weight: bold\">(</span>Student<span style=\"font-weight: bold\">)</span> <span style=\"font-weight: bold\">[</span>red<span style=\"font-weight: bold\">]</span> Entity.LLM <span style=\"font-weight: bold\">[</span><span style=\"color: #800080; text-decoration-color: #800080\">/</span><span style=\"color: #ff00ff; text-decoration-color: #ff00ff\">red</span><span style=\"font-weight: bold\">]</span> <span style=\"font-weight: bold\">[</span>green<span style=\"font-weight: bold\">]</span>Entity.LLM<span style=\"font-weight: bold\">[</span><span style=\"color: #800080; text-decoration-color: #800080\">/</span><span style=\"color: #ff00ff; text-decoration-color: #ff00ff\">green</span><span style=\"font-weight: bold\">](</span>          <span style=\"font-weight: bold\">)</span> <span style=\"font-weight: bold\">(</span>=&gt;          <span style=\"font-weight: bold\">)</span> <span style=\"font-weight: bold\">(</span>X           <span style=\"font-weight: bold\">)</span>       <span style=\"font-weight: bold\">(</span>          <span style=\"font-weight: bold\">)</span> <span style=\"font-weight: bold\">[</span>green<span style=\"font-weight: bold\">][</span><span style=\"color: #800080; text-decoration-color: #800080\">/</span><span style=\"color: #ff00ff; text-decoration-color: #ff00ff\">green</span><span style=\"font-weight: bold\">]</span>\n",
       "</pre>\n"
      ],
      "text/plain": [
       " \u001b[1m(\u001b[0mStudent\u001b[1m)\u001b[0m \u001b[1m[\u001b[0mred\u001b[1m]\u001b[0m Entity.LLM \u001b[1m[\u001b[0m\u001b[35m/\u001b[0m\u001b[95mred\u001b[0m\u001b[1m]\u001b[0m \u001b[1m[\u001b[0mgreen\u001b[1m]\u001b[0mEntity.LLM\u001b[1m[\u001b[0m\u001b[35m/\u001b[0m\u001b[95mgreen\u001b[0m\u001b[1m]\u001b[0m\u001b[1m(\u001b[0m          \u001b[1m)\u001b[0m \u001b[1m(\u001b[0m=>          \u001b[1m)\u001b[0m \u001b[1m(\u001b[0mX           \u001b[1m)\u001b[0m       \u001b[1m(\u001b[0m          \u001b[1m)\u001b[0m \u001b[1m[\u001b[0mgreen\u001b[1m]\u001b[0m\u001b[1m[\u001b[0m\u001b[35m/\u001b[0m\u001b[95mgreen\u001b[0m\u001b[1m]\u001b[0m\n"
      ]
     },
     "metadata": {},
     "output_type": "display_data"
    },
    {
     "data": {
      "text/html": [
       "<pre style=\"white-space:pre;overflow-x:auto;line-height:normal;font-family:Menlo,'DejaVu Sans Mono',consolas,'Courier New',monospace\">*<span style=\"font-weight: bold\">(</span>Student<span style=\"font-weight: bold\">)</span> <span style=\"font-weight: bold\">[</span>white<span style=\"font-weight: bold\">]</span> Entity.USER <span style=\"font-weight: bold\">[</span><span style=\"color: #800080; text-decoration-color: #800080\">/</span><span style=\"color: #ff00ff; text-decoration-color: #ff00ff\">white</span><span style=\"font-weight: bold\">]</span>\n",
       "</pre>\n"
      ],
      "text/plain": [
       "*\u001b[1m(\u001b[0mStudent\u001b[1m)\u001b[0m \u001b[1m[\u001b[0mwhite\u001b[1m]\u001b[0m Entity.USER \u001b[1m[\u001b[0m\u001b[35m/\u001b[0m\u001b[95mwhite\u001b[0m\u001b[1m]\u001b[0m\n"
      ]
     },
     "metadata": {},
     "output_type": "display_data"
    },
    {
     "data": {
      "text/html": [
       "<pre style=\"white-space:pre;overflow-x:auto;line-height:normal;font-family:Menlo,'DejaVu Sans Mono',consolas,'Courier New',monospace\"><span style=\"color: #800080; text-decoration-color: #800080; font-weight: bold\">...|&lt;&lt;&lt; Finished Agent Student (</span><span style=\"color: #800080; text-decoration-color: #800080; font-weight: bold\">2</span><span style=\"color: #800080; text-decoration-color: #800080; font-weight: bold\">) </span>\n",
       "</pre>\n"
      ],
      "text/plain": [
       "\u001b[1;35m...\u001b[0m\u001b[1;35m|<<< Finished Agent Student \u001b[0m\u001b[1;35m(\u001b[0m\u001b[1;35m2\u001b[0m\u001b[1;35m)\u001b[0m\u001b[1;35m \u001b[0m\n"
      ]
     },
     "metadata": {},
     "output_type": "display_data"
    },
    {
     "data": {
      "text/html": [
       "<pre style=\"white-space:pre;overflow-x:auto;line-height:normal;font-family:Menlo,'DejaVu Sans Mono',consolas,'Courier New',monospace\"> <span style=\"font-weight: bold\">(</span>Teacher<span style=\"font-weight: bold\">)</span> <span style=\"font-weight: bold\">[</span>red<span style=\"font-weight: bold\">]</span> Student <span style=\"font-weight: bold\">[</span><span style=\"color: #800080; text-decoration-color: #800080\">/</span><span style=\"color: #ff00ff; text-decoration-color: #ff00ff\">red</span><span style=\"font-weight: bold\">]</span> <span style=\"font-weight: bold\">[</span>blue<span style=\"font-weight: bold\">]</span>Entity.USER<span style=\"font-weight: bold\">[</span><span style=\"color: #800080; text-decoration-color: #800080\">/</span><span style=\"color: #ff00ff; text-decoration-color: #ff00ff\">blue</span><span style=\"font-weight: bold\">](</span>   Student<span style=\"font-weight: bold\">)</span> <span style=\"font-weight: bold\">(</span>=&gt;          <span style=\"font-weight: bold\">)</span> <span style=\"font-weight: bold\">(</span>X           <span style=\"font-weight: bold\">)</span>       <span style=\"font-weight: bold\">(</span>          <span style=\"font-weight: bold\">)</span> <span style=\"font-weight: bold\">[</span>blue<span style=\"font-weight: bold\">][</span><span style=\"color: #800080; text-decoration-color: #800080\">/</span><span style=\"color: #ff00ff; text-decoration-color: #ff00ff\">blue</span><span style=\"font-weight: bold\">]</span>\n",
       "</pre>\n"
      ],
      "text/plain": [
       " \u001b[1m(\u001b[0mTeacher\u001b[1m)\u001b[0m \u001b[1m[\u001b[0mred\u001b[1m]\u001b[0m Student \u001b[1m[\u001b[0m\u001b[35m/\u001b[0m\u001b[95mred\u001b[0m\u001b[1m]\u001b[0m \u001b[1m[\u001b[0mblue\u001b[1m]\u001b[0mEntity.USER\u001b[1m[\u001b[0m\u001b[35m/\u001b[0m\u001b[95mblue\u001b[0m\u001b[1m]\u001b[0m\u001b[1m(\u001b[0m   Student\u001b[1m)\u001b[0m \u001b[1m(\u001b[0m=>          \u001b[1m)\u001b[0m \u001b[1m(\u001b[0mX           \u001b[1m)\u001b[0m       \u001b[1m(\u001b[0m          \u001b[1m)\u001b[0m \u001b[1m[\u001b[0mblue\u001b[1m]\u001b[0m\u001b[1m[\u001b[0m\u001b[35m/\u001b[0m\u001b[95mblue\u001b[0m\u001b[1m]\u001b[0m\n"
      ]
     },
     "metadata": {},
     "output_type": "display_data"
    },
    {
     "data": {
      "text/html": [
       "<pre style=\"white-space:pre;overflow-x:auto;line-height:normal;font-family:Menlo,'DejaVu Sans Mono',consolas,'Courier New',monospace\">*<span style=\"font-weight: bold\">(</span>Teacher<span style=\"font-weight: bold\">)</span> <span style=\"font-weight: bold\">[</span>white<span style=\"font-weight: bold\">]</span> Entity.USER <span style=\"font-weight: bold\">[</span><span style=\"color: #800080; text-decoration-color: #800080\">/</span><span style=\"color: #ff00ff; text-decoration-color: #ff00ff\">white</span><span style=\"font-weight: bold\">]</span>\n",
       "</pre>\n"
      ],
      "text/plain": [
       "*\u001b[1m(\u001b[0mTeacher\u001b[1m)\u001b[0m \u001b[1m[\u001b[0mwhite\u001b[1m]\u001b[0m Entity.USER \u001b[1m[\u001b[0m\u001b[35m/\u001b[0m\u001b[95mwhite\u001b[0m\u001b[1m]\u001b[0m\n"
      ]
     },
     "metadata": {},
     "output_type": "display_data"
    },
    {
     "data": {
      "text/html": [
       "<pre style=\"white-space:pre;overflow-x:auto;line-height:normal;font-family:Menlo,'DejaVu Sans Mono',consolas,'Courier New',monospace\"> <span style=\"font-weight: bold\">(</span>Teacher<span style=\"font-weight: bold\">)</span> <span style=\"font-weight: bold\">[</span>red<span style=\"font-weight: bold\">]</span> Entity.USER <span style=\"font-weight: bold\">[</span><span style=\"color: #800080; text-decoration-color: #800080\">/</span><span style=\"color: #ff00ff; text-decoration-color: #ff00ff\">red</span><span style=\"font-weight: bold\">]</span> <span style=\"font-weight: bold\">[</span>blue<span style=\"font-weight: bold\">]</span>Entity.USER<span style=\"font-weight: bold\">[</span><span style=\"color: #800080; text-decoration-color: #800080\">/</span><span style=\"color: #ff00ff; text-decoration-color: #ff00ff\">blue</span><span style=\"font-weight: bold\">](</span>Entity.USER<span style=\"font-weight: bold\">)</span> <span style=\"font-weight: bold\">(</span>=&gt;          <span style=\"font-weight: bold\">)</span> <span style=\"font-weight: bold\">(</span>X           <span style=\"font-weight: bold\">)</span>       <span style=\"font-weight: bold\">(</span>          <span style=\"font-weight: bold\">)</span> <span style=\"font-weight: bold\">[</span>blue<span style=\"font-weight: bold\">][</span>CANNOT RESPOND<span style=\"font-weight: bold\">][</span><span style=\"color: #800080; text-decoration-color: #800080\">/</span><span style=\"color: #ff00ff; text-decoration-color: #ff00ff\">blue</span><span style=\"font-weight: bold\">]</span>\n",
       "</pre>\n"
      ],
      "text/plain": [
       " \u001b[1m(\u001b[0mTeacher\u001b[1m)\u001b[0m \u001b[1m[\u001b[0mred\u001b[1m]\u001b[0m Entity.USER \u001b[1m[\u001b[0m\u001b[35m/\u001b[0m\u001b[95mred\u001b[0m\u001b[1m]\u001b[0m \u001b[1m[\u001b[0mblue\u001b[1m]\u001b[0mEntity.USER\u001b[1m[\u001b[0m\u001b[35m/\u001b[0m\u001b[95mblue\u001b[0m\u001b[1m]\u001b[0m\u001b[1m(\u001b[0mEntity.USER\u001b[1m)\u001b[0m \u001b[1m(\u001b[0m=>          \u001b[1m)\u001b[0m \u001b[1m(\u001b[0mX           \u001b[1m)\u001b[0m       \u001b[1m(\u001b[0m          \u001b[1m)\u001b[0m \u001b[1m[\u001b[0mblue\u001b[1m]\u001b[0m\u001b[1m[\u001b[0mCANNOT RESPOND\u001b[1m]\u001b[0m\u001b[1m[\u001b[0m\u001b[35m/\u001b[0m\u001b[95mblue\u001b[0m\u001b[1m]\u001b[0m\n"
      ]
     },
     "metadata": {},
     "output_type": "display_data"
    },
    {
     "data": {
      "text/html": [
       "<pre style=\"white-space:pre;overflow-x:auto;line-height:normal;font-family:Menlo,'DejaVu Sans Mono',consolas,'Courier New',monospace\"> <span style=\"font-weight: bold\">(</span>Teacher<span style=\"font-weight: bold\">)</span> <span style=\"font-weight: bold\">[</span>red<span style=\"font-weight: bold\">]</span> Entity.AGENT <span style=\"font-weight: bold\">[</span><span style=\"color: #800080; text-decoration-color: #800080\">/</span><span style=\"color: #ff00ff; text-decoration-color: #ff00ff\">red</span><span style=\"font-weight: bold\">]</span>\n",
       "</pre>\n"
      ],
      "text/plain": [
       " \u001b[1m(\u001b[0mTeacher\u001b[1m)\u001b[0m \u001b[1m[\u001b[0mred\u001b[1m]\u001b[0m Entity.AGENT \u001b[1m[\u001b[0m\u001b[35m/\u001b[0m\u001b[95mred\u001b[0m\u001b[1m]\u001b[0m\n"
      ]
     },
     "metadata": {},
     "output_type": "display_data"
    },
    {
     "name": "stderr",
     "output_type": "stream",
     "text": [
      "\u001b[33m2024-10-16 15:30:17 - WARNING - Re-generating the last assistant response since message is None\u001b[0m\n"
     ]
    },
    {
     "data": {
      "text/html": [
       "<pre style=\"white-space:pre;overflow-x:auto;line-height:normal;font-family:Menlo,'DejaVu Sans Mono',consolas,'Courier New',monospace\"></pre>\n"
      ],
      "text/plain": []
     },
     "metadata": {},
     "output_type": "display_data"
    },
    {
     "data": {
      "text/html": [
       "<pre style=\"white-space:pre;overflow-x:auto;line-height:normal;font-family:Menlo,'DejaVu Sans Mono',consolas,'Courier New',monospace\"><span style=\"color: #800000; text-decoration-color: #800000; font-weight: bold\">(</span><span style=\"color: #800000; text-decoration-color: #800000\">cached</span><span style=\"color: #800000; text-decoration-color: #800000; font-weight: bold\">)</span>\n",
       "</pre>\n"
      ],
      "text/plain": [
       "\u001b[1;31m(\u001b[0m\u001b[31mcached\u001b[0m\u001b[1;31m)\u001b[0m\n"
      ]
     },
     "metadata": {},
     "output_type": "display_data"
    },
    {
     "data": {
      "text/html": [
       "<pre style=\"white-space:pre;overflow-x:auto;line-height:normal;font-family:Menlo,'DejaVu Sans Mono',consolas,'Courier New',monospace\"><span style=\"font-weight: bold\">Stats:</span> <span style=\"color: #800080; text-decoration-color: #800080\">N_MSG</span><span style=\"color: #800080; text-decoration-color: #800080\">=</span><span style=\"color: #800080; text-decoration-color: #800080; font-weight: bold\">1</span><span style=\"color: #800080; text-decoration-color: #800080\">, TOKENS: </span><span style=\"color: #800080; text-decoration-color: #800080\">in</span><span style=\"color: #800080; text-decoration-color: #800080\">=</span><span style=\"color: #800080; text-decoration-color: #800080; font-weight: bold\">0</span><span style=\"color: #800080; text-decoration-color: #800080\">, </span><span style=\"color: #800080; text-decoration-color: #800080\">out</span><span style=\"color: #800080; text-decoration-color: #800080\">=</span><span style=\"color: #800080; text-decoration-color: #800080; font-weight: bold\">0</span><span style=\"color: #800080; text-decoration-color: #800080\">, </span><span style=\"color: #800080; text-decoration-color: #800080\">max</span><span style=\"color: #800080; text-decoration-color: #800080\">=</span><span style=\"color: #800080; text-decoration-color: #800080; font-weight: bold\">1024</span><span style=\"color: #800080; text-decoration-color: #800080\">, </span><span style=\"color: #800080; text-decoration-color: #800080\">ctx</span><span style=\"color: #800080; text-decoration-color: #800080\">=</span><span style=\"color: #800080; text-decoration-color: #800080; font-weight: bold\">128000</span><span style=\"color: #800080; text-decoration-color: #800080\">, COST: </span><span style=\"color: #800080; text-decoration-color: #800080\">now</span><span style=\"color: #800080; text-decoration-color: #800080\">=$</span><span style=\"color: #800080; text-decoration-color: #800080; font-weight: bold\">0.0000</span><span style=\"color: #800080; text-decoration-color: #800080\">, </span><span style=\"color: #800080; text-decoration-color: #800080\">cumul</span><span style=\"color: #800080; text-decoration-color: #800080\">=$</span><span style=\"color: #800080; text-decoration-color: #800080; font-weight: bold\">0.0000</span><span style=\"color: #800080; text-decoration-color: #800080\">, </span><span style=\"color: #800080; text-decoration-color: #800080\">tot</span><span style=\"color: #800080; text-decoration-color: #800080\">=$</span><span style=\"color: #800080; text-decoration-color: #800080; font-weight: bold\">0.0000</span><span style=\"color: #800080; text-decoration-color: #800080\"> </span>\n",
       "<span style=\"color: #800080; text-decoration-color: #800080; font-weight: bold\">(llama3.1:8b)</span>\n",
       "</pre>\n"
      ],
      "text/plain": [
       "\u001b[1mStats:\u001b[0m \u001b[35mN_MSG\u001b[0m\u001b[35m=\u001b[0m\u001b[1;35m1\u001b[0m\u001b[35m, TOKENS: \u001b[0m\u001b[35min\u001b[0m\u001b[35m=\u001b[0m\u001b[1;35m0\u001b[0m\u001b[35m, \u001b[0m\u001b[35mout\u001b[0m\u001b[35m=\u001b[0m\u001b[1;35m0\u001b[0m\u001b[35m, \u001b[0m\u001b[35mmax\u001b[0m\u001b[35m=\u001b[0m\u001b[1;35m1024\u001b[0m\u001b[35m, \u001b[0m\u001b[35mctx\u001b[0m\u001b[35m=\u001b[0m\u001b[1;35m128000\u001b[0m\u001b[35m, COST: \u001b[0m\u001b[35mnow\u001b[0m\u001b[35m=$\u001b[0m\u001b[1;35m0.0000\u001b[0m\u001b[35m, \u001b[0m\u001b[35mcumul\u001b[0m\u001b[35m=$\u001b[0m\u001b[1;35m0.0000\u001b[0m\u001b[35m, \u001b[0m\u001b[35mtot\u001b[0m\u001b[35m=$\u001b[0m\u001b[1;35m0.0000\u001b[0m\u001b[35m \u001b[0m\n",
       "\u001b[1;35m(\u001b[0m\u001b[1;35mllama3.\u001b[0m\u001b[1;35m1:8b\u001b[0m\u001b[1;35m)\u001b[0m\n"
      ]
     },
     "metadata": {},
     "output_type": "display_data"
    },
    {
     "data": {
      "text/html": [
       "<pre style=\"white-space:pre;overflow-x:auto;line-height:normal;font-family:Menlo,'DejaVu Sans Mono',consolas,'Courier New',monospace\"> <span style=\"font-weight: bold\">(</span>Teacher<span style=\"font-weight: bold\">)</span> <span style=\"font-weight: bold\">[</span>red<span style=\"font-weight: bold\">]</span> Entity.LLM <span style=\"font-weight: bold\">[</span><span style=\"color: #800080; text-decoration-color: #800080\">/</span><span style=\"color: #ff00ff; text-decoration-color: #ff00ff\">red</span><span style=\"font-weight: bold\">]</span> <span style=\"font-weight: bold\">[</span>green<span style=\"font-weight: bold\">]</span>Entity.LLM<span style=\"font-weight: bold\">[</span><span style=\"color: #800080; text-decoration-color: #800080\">/</span><span style=\"color: #ff00ff; text-decoration-color: #ff00ff\">green</span><span style=\"font-weight: bold\">](</span>          <span style=\"font-weight: bold\">)</span> <span style=\"font-weight: bold\">(</span>=&gt;          <span style=\"font-weight: bold\">)</span> <span style=\"font-weight: bold\">(</span>X           <span style=\"font-weight: bold\">)</span>       <span style=\"font-weight: bold\">(</span>          <span style=\"font-weight: bold\">)</span> <span style=\"font-weight: bold\">[</span>green<span style=\"font-weight: bold\">][</span><span style=\"color: #800080; text-decoration-color: #800080\">/</span><span style=\"color: #ff00ff; text-decoration-color: #ff00ff\">green</span><span style=\"font-weight: bold\">]</span>\n",
       "</pre>\n"
      ],
      "text/plain": [
       " \u001b[1m(\u001b[0mTeacher\u001b[1m)\u001b[0m \u001b[1m[\u001b[0mred\u001b[1m]\u001b[0m Entity.LLM \u001b[1m[\u001b[0m\u001b[35m/\u001b[0m\u001b[95mred\u001b[0m\u001b[1m]\u001b[0m \u001b[1m[\u001b[0mgreen\u001b[1m]\u001b[0mEntity.LLM\u001b[1m[\u001b[0m\u001b[35m/\u001b[0m\u001b[95mgreen\u001b[0m\u001b[1m]\u001b[0m\u001b[1m(\u001b[0m          \u001b[1m)\u001b[0m \u001b[1m(\u001b[0m=>          \u001b[1m)\u001b[0m \u001b[1m(\u001b[0mX           \u001b[1m)\u001b[0m       \u001b[1m(\u001b[0m          \u001b[1m)\u001b[0m \u001b[1m[\u001b[0mgreen\u001b[1m]\u001b[0m\u001b[1m[\u001b[0m\u001b[35m/\u001b[0m\u001b[95mgreen\u001b[0m\u001b[1m]\u001b[0m\n"
      ]
     },
     "metadata": {},
     "output_type": "display_data"
    },
    {
     "data": {
      "text/html": [
       "<pre style=\"white-space:pre;overflow-x:auto;line-height:normal;font-family:Menlo,'DejaVu Sans Mono',consolas,'Courier New',monospace\"> <span style=\"font-weight: bold\">(</span>Student<span style=\"font-weight: bold\">)</span> <span style=\"font-weight: bold\">[</span>red<span style=\"font-weight: bold\">]</span> Entity.USER <span style=\"font-weight: bold\">[</span><span style=\"color: #800080; text-decoration-color: #800080\">/</span><span style=\"color: #ff00ff; text-decoration-color: #ff00ff\">red</span><span style=\"font-weight: bold\">]</span> <span style=\"font-weight: bold\">[</span>green<span style=\"font-weight: bold\">]</span>Entity.LLM<span style=\"font-weight: bold\">[</span><span style=\"color: #800080; text-decoration-color: #800080\">/</span><span style=\"color: #ff00ff; text-decoration-color: #ff00ff\">green</span><span style=\"font-weight: bold\">](</span>          <span style=\"font-weight: bold\">)</span> <span style=\"font-weight: bold\">(</span>=&gt;          <span style=\"font-weight: bold\">)</span> <span style=\"font-weight: bold\">(</span>X           <span style=\"font-weight: bold\">)</span>       <span style=\"font-weight: bold\">(</span>          <span style=\"font-weight: bold\">)</span> <span style=\"font-weight: bold\">[</span>green<span style=\"font-weight: bold\">][</span><span style=\"color: #800080; text-decoration-color: #800080\">/</span><span style=\"color: #ff00ff; text-decoration-color: #ff00ff\">green</span><span style=\"font-weight: bold\">]</span>\n",
       "</pre>\n"
      ],
      "text/plain": [
       " \u001b[1m(\u001b[0mStudent\u001b[1m)\u001b[0m \u001b[1m[\u001b[0mred\u001b[1m]\u001b[0m Entity.USER \u001b[1m[\u001b[0m\u001b[35m/\u001b[0m\u001b[95mred\u001b[0m\u001b[1m]\u001b[0m \u001b[1m[\u001b[0mgreen\u001b[1m]\u001b[0mEntity.LLM\u001b[1m[\u001b[0m\u001b[35m/\u001b[0m\u001b[95mgreen\u001b[0m\u001b[1m]\u001b[0m\u001b[1m(\u001b[0m          \u001b[1m)\u001b[0m \u001b[1m(\u001b[0m=>          \u001b[1m)\u001b[0m \u001b[1m(\u001b[0mX           \u001b[1m)\u001b[0m       \u001b[1m(\u001b[0m          \u001b[1m)\u001b[0m \u001b[1m[\u001b[0mgreen\u001b[1m]\u001b[0m\u001b[1m[\u001b[0m\u001b[35m/\u001b[0m\u001b[95mgreen\u001b[0m\u001b[1m]\u001b[0m\n"
      ]
     },
     "metadata": {},
     "output_type": "display_data"
    },
    {
     "data": {
      "text/html": [
       "<pre style=\"white-space:pre;overflow-x:auto;line-height:normal;font-family:Menlo,'DejaVu Sans Mono',consolas,'Courier New',monospace\"><span style=\"color: #800080; text-decoration-color: #800080; font-weight: bold\">...|&gt;&gt;&gt; Starting Agent Student (</span><span style=\"color: #800080; text-decoration-color: #800080; font-weight: bold\">2</span><span style=\"color: #800080; text-decoration-color: #800080; font-weight: bold\">) llama3.1:8b </span>\n",
       "</pre>\n"
      ],
      "text/plain": [
       "\u001b[1;35m...\u001b[0m\u001b[1;35m|>>> Starting Agent Student \u001b[0m\u001b[1;35m(\u001b[0m\u001b[1;35m2\u001b[0m\u001b[1;35m)\u001b[0m\u001b[1;35m llama3.\u001b[0m\u001b[1;35m1:8b\u001b[0m\u001b[1;35m \u001b[0m\n"
      ]
     },
     "metadata": {},
     "output_type": "display_data"
    },
    {
     "data": {
      "text/html": [
       "<pre style=\"white-space:pre;overflow-x:auto;line-height:normal;font-family:Menlo,'DejaVu Sans Mono',consolas,'Courier New',monospace\"><span style=\"color: #000080; text-decoration-color: #000080\">...|Human (respond or q, x to exit current level, or hit enter to continue)</span>\n",
       "<span style=\"color: #000080; text-decoration-color: #000080\">...|</span>: </pre>\n"
      ],
      "text/plain": [
       "\u001b[34m...|Human (respond or q, x to exit current level, or hit enter to continue)\u001b[0m\n",
       "\u001b[34m...|\u001b[0m: "
      ]
     },
     "metadata": {},
     "output_type": "display_data"
    },
    {
     "name": "stdin",
     "output_type": "stream",
     "text": [
      " q\n"
     ]
    },
    {
     "data": {
      "text/html": [
       "<pre style=\"white-space:pre;overflow-x:auto;line-height:normal;font-family:Menlo,'DejaVu Sans Mono',consolas,'Courier New',monospace\">*<span style=\"font-weight: bold\">(</span>Student<span style=\"font-weight: bold\">)</span> <span style=\"font-weight: bold\">[</span>white<span style=\"font-weight: bold\">]</span> Entity.USER <span style=\"font-weight: bold\">[</span><span style=\"color: #800080; text-decoration-color: #800080\">/</span><span style=\"color: #ff00ff; text-decoration-color: #ff00ff\">white</span><span style=\"font-weight: bold\">]</span> <span style=\"font-weight: bold\">[</span>blue<span style=\"font-weight: bold\">]</span>Entity.USER<span style=\"font-weight: bold\">[</span><span style=\"color: #800080; text-decoration-color: #800080\">/</span><span style=\"color: #ff00ff; text-decoration-color: #ff00ff\">blue</span><span style=\"font-weight: bold\">](</span>          <span style=\"font-weight: bold\">)</span> <span style=\"font-weight: bold\">(</span>=&gt;          <span style=\"font-weight: bold\">)</span> <span style=\"font-weight: bold\">(</span>X           <span style=\"font-weight: bold\">)</span>       <span style=\"font-weight: bold\">(</span>          <span style=\"font-weight: bold\">)</span> <span style=\"font-weight: bold\">[</span>blue<span style=\"font-weight: bold\">]</span>q<span style=\"font-weight: bold\">[</span><span style=\"color: #800080; text-decoration-color: #800080\">/</span><span style=\"color: #ff00ff; text-decoration-color: #ff00ff\">blue</span><span style=\"font-weight: bold\">]</span>\n",
       "</pre>\n"
      ],
      "text/plain": [
       "*\u001b[1m(\u001b[0mStudent\u001b[1m)\u001b[0m \u001b[1m[\u001b[0mwhite\u001b[1m]\u001b[0m Entity.USER \u001b[1m[\u001b[0m\u001b[35m/\u001b[0m\u001b[95mwhite\u001b[0m\u001b[1m]\u001b[0m \u001b[1m[\u001b[0mblue\u001b[1m]\u001b[0mEntity.USER\u001b[1m[\u001b[0m\u001b[35m/\u001b[0m\u001b[95mblue\u001b[0m\u001b[1m]\u001b[0m\u001b[1m(\u001b[0m          \u001b[1m)\u001b[0m \u001b[1m(\u001b[0m=>          \u001b[1m)\u001b[0m \u001b[1m(\u001b[0mX           \u001b[1m)\u001b[0m       \u001b[1m(\u001b[0m          \u001b[1m)\u001b[0m \u001b[1m[\u001b[0mblue\u001b[1m]\u001b[0mq\u001b[1m[\u001b[0m\u001b[35m/\u001b[0m\u001b[95mblue\u001b[0m\u001b[1m]\u001b[0m\n"
      ]
     },
     "metadata": {},
     "output_type": "display_data"
    },
    {
     "data": {
      "text/html": [
       "<pre style=\"white-space:pre;overflow-x:auto;line-height:normal;font-family:Menlo,'DejaVu Sans Mono',consolas,'Courier New',monospace\"><span style=\"color: #800080; text-decoration-color: #800080; font-weight: bold\">...|&lt;&lt;&lt; Finished Agent Student (</span><span style=\"color: #800080; text-decoration-color: #800080; font-weight: bold\">2</span><span style=\"color: #800080; text-decoration-color: #800080; font-weight: bold\">) </span>\n",
       "</pre>\n"
      ],
      "text/plain": [
       "\u001b[1;35m...\u001b[0m\u001b[1;35m|<<< Finished Agent Student \u001b[0m\u001b[1;35m(\u001b[0m\u001b[1;35m2\u001b[0m\u001b[1;35m)\u001b[0m\u001b[1;35m \u001b[0m\n"
      ]
     },
     "metadata": {},
     "output_type": "display_data"
    },
    {
     "data": {
      "text/html": [
       "<pre style=\"white-space:pre;overflow-x:auto;line-height:normal;font-family:Menlo,'DejaVu Sans Mono',consolas,'Courier New',monospace\">*<span style=\"font-weight: bold\">(</span>Teacher<span style=\"font-weight: bold\">)</span> <span style=\"font-weight: bold\">[</span>white<span style=\"font-weight: bold\">]</span> Student <span style=\"font-weight: bold\">[</span><span style=\"color: #800080; text-decoration-color: #800080\">/</span><span style=\"color: #ff00ff; text-decoration-color: #ff00ff\">white</span><span style=\"font-weight: bold\">]</span> <span style=\"font-weight: bold\">[</span>blue<span style=\"font-weight: bold\">]</span>Entity.USER<span style=\"font-weight: bold\">[</span><span style=\"color: #800080; text-decoration-color: #800080\">/</span><span style=\"color: #ff00ff; text-decoration-color: #ff00ff\">blue</span><span style=\"font-weight: bold\">](</span>   Student<span style=\"font-weight: bold\">)</span> <span style=\"font-weight: bold\">(</span>=&gt;          <span style=\"font-weight: bold\">)</span> <span style=\"font-weight: bold\">(</span>X           <span style=\"font-weight: bold\">)</span>       <span style=\"font-weight: bold\">(</span>          <span style=\"font-weight: bold\">)</span> <span style=\"font-weight: bold\">[</span>blue<span style=\"font-weight: bold\">]</span>q<span style=\"font-weight: bold\">[</span><span style=\"color: #800080; text-decoration-color: #800080\">/</span><span style=\"color: #ff00ff; text-decoration-color: #ff00ff\">blue</span><span style=\"font-weight: bold\">]</span>\n",
       "</pre>\n"
      ],
      "text/plain": [
       "*\u001b[1m(\u001b[0mTeacher\u001b[1m)\u001b[0m \u001b[1m[\u001b[0mwhite\u001b[1m]\u001b[0m Student \u001b[1m[\u001b[0m\u001b[35m/\u001b[0m\u001b[95mwhite\u001b[0m\u001b[1m]\u001b[0m \u001b[1m[\u001b[0mblue\u001b[1m]\u001b[0mEntity.USER\u001b[1m[\u001b[0m\u001b[35m/\u001b[0m\u001b[95mblue\u001b[0m\u001b[1m]\u001b[0m\u001b[1m(\u001b[0m   Student\u001b[1m)\u001b[0m \u001b[1m(\u001b[0m=>          \u001b[1m)\u001b[0m \u001b[1m(\u001b[0mX           \u001b[1m)\u001b[0m       \u001b[1m(\u001b[0m          \u001b[1m)\u001b[0m \u001b[1m[\u001b[0mblue\u001b[1m]\u001b[0mq\u001b[1m[\u001b[0m\u001b[35m/\u001b[0m\u001b[95mblue\u001b[0m\u001b[1m]\u001b[0m\n"
      ]
     },
     "metadata": {},
     "output_type": "display_data"
    },
    {
     "data": {
      "text/html": [
       "<pre style=\"white-space:pre;overflow-x:auto;line-height:normal;font-family:Menlo,'DejaVu Sans Mono',consolas,'Courier New',monospace\"><span style=\"color: #800080; text-decoration-color: #800080\">Bye, hope this was useful!</span>\n",
       "</pre>\n"
      ],
      "text/plain": [
       "\u001b[35mBye, hope this was useful!\u001b[0m\n"
      ]
     },
     "metadata": {},
     "output_type": "display_data"
    },
    {
     "data": {
      "text/html": [
       "<pre style=\"white-space:pre;overflow-x:auto;line-height:normal;font-family:Menlo,'DejaVu Sans Mono',consolas,'Courier New',monospace\"><span style=\"color: #800080; text-decoration-color: #800080; font-weight: bold\">&lt;&lt;&lt; Finished Agent Teacher (</span><span style=\"color: #800080; text-decoration-color: #800080; font-weight: bold\">2</span><span style=\"color: #800080; text-decoration-color: #800080; font-weight: bold\">) </span>\n",
       "</pre>\n"
      ],
      "text/plain": [
       "\u001b[1;35m<<< Finished Agent Teacher \u001b[0m\u001b[1;35m(\u001b[0m\u001b[1;35m2\u001b[0m\u001b[1;35m)\u001b[0m\u001b[1;35m \u001b[0m\n"
      ]
     },
     "metadata": {},
     "output_type": "display_data"
    },
    {
     "data": {
      "text/plain": [
       "ChatDocument(content='q', metadata=ChatDocMetaData(source='User', is_chunk=False, id='2d68b42e-0285-4348-ab76-b6e72de1abdc', window_ids=[], parent_id='18a23309-0cbb-47c2-ac41-eafdbfd86f4c', child_id='', agent_id='default=PydanticUndefined default_factory=<function Agent.<lambda> at 0x77cd594d1300> extra={}', msg_idx=-1, sender=<Entity.USER: 'User'>, oai_tool_id=None, tool_ids=[], block=None, sender_name='Teacher', recipient='', usage=None, cached=False, displayed=False, has_citation=False, status=<StatusCode.USER_QUIT: 'USER_QUIT'>), content_any=None, oai_tool_calls=None, oai_tool_id2result=None, oai_tool_choice='auto', function_call=None, tool_messages=[], all_tool_messages=[], attachment=None)"
      ]
     },
     "execution_count": 16,
     "metadata": {},
     "output_type": "execute_result"
    }
   ],
   "source": [
    "teacher = lr.ChatAgent(agent_cfg)\n",
    "teacher_task = lr.Task(\n",
    "    teacher,\n",
    "    name=\"Teacher\",\n",
    "    system_message=\"\"\"\n",
    "        Ask your student simple number-based questions, and give feedback.\n",
    "        Start with a question.\n",
    "        \"\"\",\n",
    ")\n",
    "student = lr.ChatAgent(agent_cfg)\n",
    "student_task = lr.Task(\n",
    "    student,\n",
    "    name=\"Student\",\n",
    "    system_message=\"Concisely answer your teacher's questions.\"\n",
    ")\n",
    "teacher_task.add_sub_task(student_task)\n",
    "teacher_task.run()"
   ]
  },
  {
   "cell_type": "markdown",
   "id": "f8e26955-c91f-47db-ae85-28c482648cb6",
   "metadata": {},
   "source": [
    "# ChatAgent with Tool/function-call"
   ]
  },
  {
   "cell_type": "code",
   "execution_count": 35,
   "id": "7c5844e4-8b12-43c8-b450-d7258ae96e0c",
   "metadata": {},
   "outputs": [],
   "source": [
    "from langroid.agent.tool_message import ToolMessage\n",
    "\n",
    "# This is a fictitious transform, for illustration.\n",
    "class NabroskiTool(ToolMessage):\n",
    "    request = 'nabroski'\n",
    "    purpose = 'To find the Nabroski transform of the given number'\n",
    "    number: int\n",
    "\n",
    "    # optional\n",
    "    @classmethod\n",
    "    def examples(cls):\n",
    "        # these are auto-populated into the sys msg\n",
    "        # as few-shot examples of the tool\n",
    "        return ([cls(number=5)])\n",
    "\n",
    "    def handle(self) -> str:\n",
    "        # method to handle the LLM msg using this tool:\n",
    "        # this method will be spliced into the ChatAgent object, with\n",
    "        # name = `nabroski`\n",
    "        return str(3*self.number + 1)"
   ]
  },
  {
   "cell_type": "code",
   "execution_count": 49,
   "id": "662c9d78-ab84-453c-b58d-cb7f28671dd4",
   "metadata": {},
   "outputs": [],
   "source": [
    "llm_cfg = lm.OpenAIGPTConfig(\n",
    "    chat_model=\"ollama/llama3.1:8b\",\n",
    "    api_base=\"http://10.20.10.65:11434/v1\",\n",
    "    chat_context_length=128_000, # adjust based on model\n",
    ")\n",
    "\n",
    "agent_cfg = lr.ChatAgentConfig(\n",
    "    llm=llm_cfg,\n",
    "    show_stats=False,       # disable token/cost stats\n",
    "    use_functions_api=True, # use OpenAI API fn-call\n",
    "    use_tools=False,        # don't use Langroid-native Tool instructions\n",
    "    vecdb=None\n",
    ")\n",
    "\n",
    "agent = lr.ChatAgent(agent_cfg)\n",
    "agent.enable_message(NabroskiTool)\n",
    "\n",
    "task = lr.Task(\n",
    "    agent,\n",
    "    # restart=True,         # reset/erase agent state\n",
    "    # single_round=False,\n",
    "    interactive=False,    # don't wait for human input\n",
    "    system_message=\"\"\"\n",
    "      User will give you a number. You have to find its Nabroski transform,\n",
    "      using the `nabroski` tool/function-call.\n",
    "      When you find the answer say DONE and show the answer.\n",
    "    \"\"\",\n",
    ")"
   ]
  },
  {
   "cell_type": "code",
   "execution_count": 50,
   "id": "73725040-b2ab-46d6-a62c-799a33ac72d2",
   "metadata": {},
   "outputs": [
    {
     "data": {
      "text/html": [
       "<pre style=\"white-space:pre;overflow-x:auto;line-height:normal;font-family:Menlo,'DejaVu Sans Mono',consolas,'Courier New',monospace\"> <span style=\"font-weight: bold\">(</span>LLM-Agent<span style=\"font-weight: bold\">)</span> <span style=\"font-weight: bold\">[</span>red<span style=\"font-weight: bold\">]</span> Entity.USER <span style=\"font-weight: bold\">[</span><span style=\"color: #800080; text-decoration-color: #800080\">/</span><span style=\"color: #ff00ff; text-decoration-color: #ff00ff\">red</span><span style=\"font-weight: bold\">]</span> <span style=\"font-weight: bold\">[</span>blue<span style=\"font-weight: bold\">]</span>Entity.USER<span style=\"font-weight: bold\">[</span><span style=\"color: #800080; text-decoration-color: #800080\">/</span><span style=\"color: #ff00ff; text-decoration-color: #ff00ff\">blue</span><span style=\"font-weight: bold\">](</span> LLM-Agent<span style=\"font-weight: bold\">)</span> <span style=\"font-weight: bold\">(</span>=&gt;          <span style=\"font-weight: bold\">)</span> <span style=\"font-weight: bold\">(</span>X           <span style=\"font-weight: bold\">)</span>       <span style=\"font-weight: bold\">(</span>          <span style=\"font-weight: bold\">)</span> <span style=\"font-weight: bold\">[</span>blue<span style=\"font-weight: bold\">]</span><span style=\"color: #008080; text-decoration-color: #008080; font-weight: bold\">10</span><span style=\"font-weight: bold\">[</span><span style=\"color: #800080; text-decoration-color: #800080\">/</span><span style=\"color: #ff00ff; text-decoration-color: #ff00ff\">blue</span><span style=\"font-weight: bold\">]</span>\n",
       "</pre>\n"
      ],
      "text/plain": [
       " \u001b[1m(\u001b[0mLLM-Agent\u001b[1m)\u001b[0m \u001b[1m[\u001b[0mred\u001b[1m]\u001b[0m Entity.USER \u001b[1m[\u001b[0m\u001b[35m/\u001b[0m\u001b[95mred\u001b[0m\u001b[1m]\u001b[0m \u001b[1m[\u001b[0mblue\u001b[1m]\u001b[0mEntity.USER\u001b[1m[\u001b[0m\u001b[35m/\u001b[0m\u001b[95mblue\u001b[0m\u001b[1m]\u001b[0m\u001b[1m(\u001b[0m LLM-Agent\u001b[1m)\u001b[0m \u001b[1m(\u001b[0m=>          \u001b[1m)\u001b[0m \u001b[1m(\u001b[0mX           \u001b[1m)\u001b[0m       \u001b[1m(\u001b[0m          \u001b[1m)\u001b[0m \u001b[1m[\u001b[0mblue\u001b[1m]\u001b[0m\u001b[1;36m10\u001b[0m\u001b[1m[\u001b[0m\u001b[35m/\u001b[0m\u001b[95mblue\u001b[0m\u001b[1m]\u001b[0m\n"
      ]
     },
     "metadata": {},
     "output_type": "display_data"
    },
    {
     "data": {
      "text/html": [
       "<pre style=\"white-space:pre;overflow-x:auto;line-height:normal;font-family:Menlo,'DejaVu Sans Mono',consolas,'Courier New',monospace\"><span style=\"color: #800080; text-decoration-color: #800080; font-weight: bold\">&gt;&gt;&gt; Starting Agent LLM-Agent (</span><span style=\"color: #800080; text-decoration-color: #800080; font-weight: bold\">1</span><span style=\"color: #800080; text-decoration-color: #800080; font-weight: bold\">) llama3.1:8b </span>\n",
       "</pre>\n"
      ],
      "text/plain": [
       "\u001b[1;35m>>> Starting Agent LLM-Agent \u001b[0m\u001b[1;35m(\u001b[0m\u001b[1;35m1\u001b[0m\u001b[1;35m)\u001b[0m\u001b[1;35m llama3.\u001b[0m\u001b[1;35m1:8b\u001b[0m\u001b[1;35m \u001b[0m\n"
      ]
     },
     "metadata": {},
     "output_type": "display_data"
    },
    {
     "data": {
      "text/html": [
       "<pre style=\"white-space:pre;overflow-x:auto;line-height:normal;font-family:Menlo,'DejaVu Sans Mono',consolas,'Courier New',monospace\"> <span style=\"font-weight: bold\">(</span>LLM-Agent<span style=\"font-weight: bold\">)</span> <span style=\"font-weight: bold\">[</span>red<span style=\"font-weight: bold\">]</span> Entity.USER <span style=\"font-weight: bold\">[</span><span style=\"color: #800080; text-decoration-color: #800080\">/</span><span style=\"color: #ff00ff; text-decoration-color: #ff00ff\">red</span><span style=\"font-weight: bold\">]</span> <span style=\"font-weight: bold\">[</span>blue<span style=\"font-weight: bold\">]</span>Entity.USER<span style=\"font-weight: bold\">[</span><span style=\"color: #800080; text-decoration-color: #800080\">/</span><span style=\"color: #ff00ff; text-decoration-color: #ff00ff\">blue</span><span style=\"font-weight: bold\">](</span>Entity.USER<span style=\"font-weight: bold\">)</span> <span style=\"font-weight: bold\">(</span>=&gt;          <span style=\"font-weight: bold\">)</span> <span style=\"font-weight: bold\">(</span>X           <span style=\"font-weight: bold\">)</span>       <span style=\"font-weight: bold\">(</span>          <span style=\"font-weight: bold\">)</span> <span style=\"font-weight: bold\">[</span>blue<span style=\"font-weight: bold\">][</span>CANNOT RESPOND<span style=\"font-weight: bold\">][</span><span style=\"color: #800080; text-decoration-color: #800080\">/</span><span style=\"color: #ff00ff; text-decoration-color: #ff00ff\">blue</span><span style=\"font-weight: bold\">]</span>\n",
       "</pre>\n"
      ],
      "text/plain": [
       " \u001b[1m(\u001b[0mLLM-Agent\u001b[1m)\u001b[0m \u001b[1m[\u001b[0mred\u001b[1m]\u001b[0m Entity.USER \u001b[1m[\u001b[0m\u001b[35m/\u001b[0m\u001b[95mred\u001b[0m\u001b[1m]\u001b[0m \u001b[1m[\u001b[0mblue\u001b[1m]\u001b[0mEntity.USER\u001b[1m[\u001b[0m\u001b[35m/\u001b[0m\u001b[95mblue\u001b[0m\u001b[1m]\u001b[0m\u001b[1m(\u001b[0mEntity.USER\u001b[1m)\u001b[0m \u001b[1m(\u001b[0m=>          \u001b[1m)\u001b[0m \u001b[1m(\u001b[0mX           \u001b[1m)\u001b[0m       \u001b[1m(\u001b[0m          \u001b[1m)\u001b[0m \u001b[1m[\u001b[0mblue\u001b[1m]\u001b[0m\u001b[1m[\u001b[0mCANNOT RESPOND\u001b[1m]\u001b[0m\u001b[1m[\u001b[0m\u001b[35m/\u001b[0m\u001b[95mblue\u001b[0m\u001b[1m]\u001b[0m\n"
      ]
     },
     "metadata": {},
     "output_type": "display_data"
    },
    {
     "data": {
      "text/html": [
       "<pre style=\"white-space:pre;overflow-x:auto;line-height:normal;font-family:Menlo,'DejaVu Sans Mono',consolas,'Courier New',monospace\"> <span style=\"font-weight: bold\">(</span>LLM-Agent<span style=\"font-weight: bold\">)</span> <span style=\"font-weight: bold\">[</span>red<span style=\"font-weight: bold\">]</span> Entity.AGENT <span style=\"font-weight: bold\">[</span><span style=\"color: #800080; text-decoration-color: #800080\">/</span><span style=\"color: #ff00ff; text-decoration-color: #ff00ff\">red</span><span style=\"font-weight: bold\">]</span>\n",
       "</pre>\n"
      ],
      "text/plain": [
       " \u001b[1m(\u001b[0mLLM-Agent\u001b[1m)\u001b[0m \u001b[1m[\u001b[0mred\u001b[1m]\u001b[0m Entity.AGENT \u001b[1m[\u001b[0m\u001b[35m/\u001b[0m\u001b[95mred\u001b[0m\u001b[1m]\u001b[0m\n"
      ]
     },
     "metadata": {},
     "output_type": "display_data"
    },
    {
     "data": {
      "text/html": [
       "<pre style=\"white-space:pre;overflow-x:auto;line-height:normal;font-family:Menlo,'DejaVu Sans Mono',consolas,'Courier New',monospace\"></pre>\n"
      ],
      "text/plain": []
     },
     "metadata": {},
     "output_type": "display_data"
    },
    {
     "name": "stdout",
     "output_type": "stream",
     "text": [
      "\u001b[32m\u001b[32mTO\u001b[32mOL\u001b[32m:\u001b[32m nab\u001b[32mros\u001b[32mki\u001b[32m\n",
      "\u001b[32m{\n",
      "\u001b[32m \u001b[32m \"\u001b[32mrequest\u001b[32m\":\u001b[32m \"\u001b[32mn\u001b[32mab\u001b[32mros\u001b[32mki\u001b[32m\",\n",
      "\u001b[32m \u001b[32m \"\u001b[32mnumber\u001b[32m\":\u001b[32m \u001b[32m10\u001b[32m\n",
      "\u001b[32m}\n",
      "\n",
      "\u001b[32mDONE\u001b[32m\n",
      "\u001b[32mThe\u001b[32m Nab\u001b[32mros\u001b[32mki\u001b[32m transform\u001b[32m of\u001b[32m \u001b[32m10\u001b[32m is\u001b[32m:\u001b[32m -\u001b[32m1"
     ]
    },
    {
     "data": {
      "text/html": [
       "<pre style=\"white-space:pre;overflow-x:auto;line-height:normal;font-family:Menlo,'DejaVu Sans Mono',consolas,'Courier New',monospace\">\n",
       "</pre>\n"
      ],
      "text/plain": [
       "\n"
      ]
     },
     "metadata": {},
     "output_type": "display_data"
    },
    {
     "data": {
      "text/html": [
       "<pre style=\"white-space:pre;overflow-x:auto;line-height:normal;font-family:Menlo,'DejaVu Sans Mono',consolas,'Courier New',monospace\">*<span style=\"font-weight: bold\">(</span>LLM-Agent<span style=\"font-weight: bold\">)</span> <span style=\"font-weight: bold\">[</span>white<span style=\"font-weight: bold\">]</span> Entity.LLM <span style=\"font-weight: bold\">[</span><span style=\"color: #800080; text-decoration-color: #800080\">/</span><span style=\"color: #ff00ff; text-decoration-color: #ff00ff\">white</span><span style=\"font-weight: bold\">]</span> <span style=\"font-weight: bold\">[</span>green<span style=\"font-weight: bold\">]</span>Entity.LLM<span style=\"font-weight: bold\">[</span><span style=\"color: #800080; text-decoration-color: #800080\">/</span><span style=\"color: #ff00ff; text-decoration-color: #ff00ff\">green</span><span style=\"font-weight: bold\">](</span>          <span style=\"font-weight: bold\">)</span> <span style=\"font-weight: bold\">(</span>=&gt;          <span style=\"font-weight: bold\">)</span> <span style=\"font-weight: bold\">(</span>X           <span style=\"font-weight: bold\">)</span>   <span style=\"color: #800080; text-decoration-color: #800080; font-weight: bold\">TOOL</span><span style=\"font-weight: bold\">(</span>  nabroski<span style=\"font-weight: bold\">)</span> <span style=\"font-weight: bold\">[</span>green<span style=\"font-weight: bold\">]</span>TOOL: nabroski\n",
       "<span style=\"font-weight: bold\">{</span>\n",
       "  <span style=\"color: #008000; text-decoration-color: #008000\">\"request\"</span>: <span style=\"color: #008000; text-decoration-color: #008000\">\"nabroski\"</span>,\n",
       "  <span style=\"color: #008000; text-decoration-color: #008000\">\"number\"</span>: <span style=\"color: #008080; text-decoration-color: #008080; font-weight: bold\">10</span>\n",
       "<span style=\"font-weight: bold\">}</span>\n",
       "\n",
       "DONE\n",
       "The Nabroski transform of <span style=\"color: #008080; text-decoration-color: #008080; font-weight: bold\">10</span> is: <span style=\"color: #008080; text-decoration-color: #008080; font-weight: bold\">-1</span><span style=\"font-weight: bold\">[</span><span style=\"color: #800080; text-decoration-color: #800080\">/</span><span style=\"color: #ff00ff; text-decoration-color: #ff00ff\">green</span><span style=\"font-weight: bold\">]</span>\n",
       "</pre>\n"
      ],
      "text/plain": [
       "*\u001b[1m(\u001b[0mLLM-Agent\u001b[1m)\u001b[0m \u001b[1m[\u001b[0mwhite\u001b[1m]\u001b[0m Entity.LLM \u001b[1m[\u001b[0m\u001b[35m/\u001b[0m\u001b[95mwhite\u001b[0m\u001b[1m]\u001b[0m \u001b[1m[\u001b[0mgreen\u001b[1m]\u001b[0mEntity.LLM\u001b[1m[\u001b[0m\u001b[35m/\u001b[0m\u001b[95mgreen\u001b[0m\u001b[1m]\u001b[0m\u001b[1m(\u001b[0m          \u001b[1m)\u001b[0m \u001b[1m(\u001b[0m=>          \u001b[1m)\u001b[0m \u001b[1m(\u001b[0mX           \u001b[1m)\u001b[0m   \u001b[1;35mTOOL\u001b[0m\u001b[1m(\u001b[0m  nabroski\u001b[1m)\u001b[0m \u001b[1m[\u001b[0mgreen\u001b[1m]\u001b[0mTOOL: nabroski\n",
       "\u001b[1m{\u001b[0m\n",
       "  \u001b[32m\"request\"\u001b[0m: \u001b[32m\"nabroski\"\u001b[0m,\n",
       "  \u001b[32m\"number\"\u001b[0m: \u001b[1;36m10\u001b[0m\n",
       "\u001b[1m}\u001b[0m\n",
       "\n",
       "DONE\n",
       "The Nabroski transform of \u001b[1;36m10\u001b[0m is: \u001b[1;36m-1\u001b[0m\u001b[1m[\u001b[0m\u001b[35m/\u001b[0m\u001b[95mgreen\u001b[0m\u001b[1m]\u001b[0m\n"
      ]
     },
     "metadata": {},
     "output_type": "display_data"
    },
    {
     "data": {
      "text/html": [
       "<pre style=\"white-space:pre;overflow-x:auto;line-height:normal;font-family:Menlo,'DejaVu Sans Mono',consolas,'Courier New',monospace\"><span style=\"color: #800080; text-decoration-color: #800080\">Bye, hope this was useful!</span>\n",
       "</pre>\n"
      ],
      "text/plain": [
       "\u001b[35mBye, hope this was useful!\u001b[0m\n"
      ]
     },
     "metadata": {},
     "output_type": "display_data"
    },
    {
     "data": {
      "text/html": [
       "<pre style=\"white-space:pre;overflow-x:auto;line-height:normal;font-family:Menlo,'DejaVu Sans Mono',consolas,'Courier New',monospace\"><span style=\"color: #800080; text-decoration-color: #800080; font-weight: bold\">&lt;&lt;&lt; Finished Agent LLM-Agent (</span><span style=\"color: #800080; text-decoration-color: #800080; font-weight: bold\">3</span><span style=\"color: #800080; text-decoration-color: #800080; font-weight: bold\">) </span>\n",
       "</pre>\n"
      ],
      "text/plain": [
       "\u001b[1;35m<<< Finished Agent LLM-Agent \u001b[0m\u001b[1;35m(\u001b[0m\u001b[1;35m3\u001b[0m\u001b[1;35m)\u001b[0m\u001b[1;35m \u001b[0m\n"
      ]
     },
     "metadata": {},
     "output_type": "display_data"
    }
   ],
   "source": [
    "response = task.run(\"10\")"
   ]
  },
  {
   "cell_type": "code",
   "execution_count": 51,
   "id": "99a26a8f-cc0c-491d-a7d5-babf56357ec9",
   "metadata": {},
   "outputs": [
    {
     "data": {
      "text/plain": [
       "ChatDocument(content='TOOL: nabroski\\n{\\n  \"request\": \"nabroski\",\\n  \"number\": 10\\n}\\n\\n\\nThe Nabroski transform of 10 is: -1', metadata=ChatDocMetaData(source='User', is_chunk=False, id='f24b131e-ffa0-4501-b1dd-674927e0921d', window_ids=[], parent_id='261e1206-4c73-458a-9ae2-bf055e3702d6', child_id='', agent_id='default=PydanticUndefined default_factory=<function Agent.<lambda> at 0x77cd594d1300> extra={}', msg_idx=-1, sender=<Entity.USER: 'User'>, oai_tool_id=None, tool_ids=[], block=None, sender_name='LLM-Agent', recipient='', usage=None, cached=False, displayed=False, has_citation=False, status=<StatusCode.DONE: 'DONE'>), content_any='TOOL: nabroski\\n{\\n  \"request\": \"nabroski\",\\n  \"number\": 10\\n}\\n\\nDONE\\nThe Nabroski transform of 10 is: -1', oai_tool_calls=None, oai_tool_id2result=None, oai_tool_choice='auto', function_call=None, tool_messages=[], all_tool_messages=[], attachment=None)"
      ]
     },
     "execution_count": 51,
     "metadata": {},
     "output_type": "execute_result"
    }
   ],
   "source": [
    "response"
   ]
  },
  {
   "cell_type": "code",
   "execution_count": null,
   "id": "4b2456c5-002b-4cd0-baf6-a038e7dc8a64",
   "metadata": {},
   "outputs": [],
   "source": []
  }
 ],
 "metadata": {
  "kernelspec": {
   "display_name": "Python 3 (ipykernel)",
   "language": "python",
   "name": "python3"
  },
  "language_info": {
   "codemirror_mode": {
    "name": "ipython",
    "version": 3
   },
   "file_extension": ".py",
   "mimetype": "text/x-python",
   "name": "python",
   "nbconvert_exporter": "python",
   "pygments_lexer": "ipython3",
   "version": "3.11.10"
  }
 },
 "nbformat": 4,
 "nbformat_minor": 5
}
